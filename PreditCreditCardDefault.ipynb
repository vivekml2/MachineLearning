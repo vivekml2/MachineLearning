{
  "nbformat": 4,
  "nbformat_minor": 0,
  "metadata": {
    "colab": {
      "name": "PreditCreditCardDefault.ipynb",
      "provenance": [],
      "authorship_tag": "ABX9TyNzFnaqlGXx5rH2FxuoDCWZ",
      "include_colab_link": true
    },
    "kernelspec": {
      "name": "python3",
      "display_name": "Python 3"
    },
    "language_info": {
      "name": "python"
    }
  },
  "cells": [
    {
      "cell_type": "markdown",
      "metadata": {
        "id": "view-in-github",
        "colab_type": "text"
      },
      "source": [
        "<a href=\"https://colab.research.google.com/github/vivekml2/MachineLearning/blob/main/PreditCreditCardDefault.ipynb\" target=\"_parent\"><img src=\"https://colab.research.google.com/assets/colab-badge.svg\" alt=\"Open In Colab\"/></a>"
      ]
    },
    {
      "cell_type": "code",
      "metadata": {
        "id": "yy5OIcacVbQI"
      },
      "source": [
        "#pip install lime"
      ],
      "execution_count": 6,
      "outputs": []
    },
    {
      "cell_type": "code",
      "metadata": {
        "id": "6-bpP9RtzHZG",
        "colab": {
          "base_uri": "https://localhost:8080/"
        },
        "outputId": "d9401984-2dbd-4e0f-d89e-da996f0c8470"
      },
      "source": [
        "# Importing ML algorithms\n",
        "from sklearn.ensemble import RandomForestClassifier,GradientBoostingClassifier\n",
        "from xgboost import XGBClassifier\n",
        "from sklearn.linear_model import LogisticRegression\n",
        "from sklearn.model_selection import train_test_split, RandomizedSearchCV, GridSearchCV\n",
        "from sklearn.svm import SVC\n",
        "import xgboost as xgb\n",
        "from lightgbm import LGBMClassifier\n",
        "from sklearn.metrics import mean_squared_error, accuracy_score,confusion_matrix, roc_curve, auc,classification_report, recall_score, precision_score, f1_score,roc_auc_score,auc,roc_curve\n",
        "from sklearn.metrics import precision_recall_curve\n",
        "from sklearn.utils import resample\n",
        "from sklearn.model_selection import cross_val_score\n",
        "from sklearn.model_selection import RepeatedStratifiedKFold\n",
        "from collections import Counter\n",
        "from sklearn.datasets import make_classification\n",
        "from sklearn.model_selection import KFold,StratifiedKFold\n",
        "from sklearn.feature_selection import RFECV\n",
        "from sklearn.preprocessing import StandardScaler\n",
        "from imblearn.over_sampling import SMOTE\n",
        "from imblearn.under_sampling import RandomUnderSampler\n",
        "from imblearn.pipeline import Pipeline"
      ],
      "execution_count": 7,
      "outputs": [
        {
          "output_type": "stream",
          "text": [
            "/usr/local/lib/python3.7/dist-packages/sklearn/externals/six.py:31: FutureWarning: The module is deprecated in version 0.21 and will be removed in version 0.23 since we've dropped support for Python 2.7. Please rely on the official version of six (https://pypi.org/project/six/).\n",
            "  \"(https://pypi.org/project/six/).\", FutureWarning)\n",
            "/usr/local/lib/python3.7/dist-packages/sklearn/utils/deprecation.py:144: FutureWarning: The sklearn.neighbors.base module is  deprecated in version 0.22 and will be removed in version 0.24. The corresponding classes / functions should instead be imported from sklearn.neighbors. Anything that cannot be imported from sklearn.neighbors is now part of the private API.\n",
            "  warnings.warn(message, FutureWarning)\n"
          ],
          "name": "stderr"
        }
      ]
    },
    {
      "cell_type": "code",
      "metadata": {
        "id": "WhDKHWk9UBPZ"
      },
      "source": [
        "# import required libraries\n",
        "\n",
        "\n",
        "import tensorflow as tf\n",
        "import keras\n",
        "import keras.backend as K\n",
        "from keras.callbacks import EarlyStopping, ModelCheckpoint\n",
        "from keras import models\n",
        "from keras import layers\n",
        "\n",
        "import pandas as pd\n",
        "import numpy as np\n",
        "import math\n",
        "from scipy.stats import kurtosis\n",
        "from scipy import stats, special\n",
        "from scipy.stats import skew\n",
        "import shap\n",
        "\n",
        "from lime.lime_tabular import LimeTabularExplainer\n",
        "import matplotlib.pyplot as plt\n",
        "import seaborn as sns\n",
        "from matplotlib import pyplot"
      ],
      "execution_count": 8,
      "outputs": []
    },
    {
      "cell_type": "code",
      "metadata": {
        "id": "v7W4BGGNgzOV"
      },
      "source": [
        ""
      ],
      "execution_count": 8,
      "outputs": []
    },
    {
      "cell_type": "code",
      "metadata": {
        "id": "Kx6XkWK4Wepa"
      },
      "source": [
        "#Ignore warnings\n",
        "\n",
        "import warnings\n",
        "\n",
        "warnings.filterwarnings('ignore')\n",
        "warnings.filterwarnings(action='ignore')\n"
      ],
      "execution_count": 9,
      "outputs": []
    },
    {
      "cell_type": "code",
      "metadata": {
        "id": "h0_X23seWvZJ"
      },
      "source": [
        "# Display all rows and columns of a dataframe\n",
        "\n",
        "pd.set_option('display.max_columns',15)\n",
        "pd.set_option('display.max_rows',1000)"
      ],
      "execution_count": 10,
      "outputs": []
    },
    {
      "cell_type": "code",
      "metadata": {
        "colab": {
          "base_uri": "https://localhost:8080/"
        },
        "id": "C3Ri2fo2RKi0",
        "outputId": "b7b38da6-179f-4312-9aa5-6564b4a63935"
      },
      "source": [
        "# Reading the training data set\n",
        "\n",
        "df = pd.read_csv('/content/cs-training.csv')\n",
        "df.shape"
      ],
      "execution_count": 11,
      "outputs": [
        {
          "output_type": "execute_result",
          "data": {
            "text/plain": [
              "(150000, 12)"
            ]
          },
          "metadata": {
            "tags": []
          },
          "execution_count": 11
        }
      ]
    },
    {
      "cell_type": "code",
      "metadata": {
        "colab": {
          "base_uri": "https://localhost:8080/"
        },
        "id": "vCEXCSRLXWBK",
        "outputId": "bbdcbba0-9524-41be-895c-ce6cadd8e809"
      },
      "source": [
        "df.info()"
      ],
      "execution_count": 12,
      "outputs": [
        {
          "output_type": "stream",
          "text": [
            "<class 'pandas.core.frame.DataFrame'>\n",
            "RangeIndex: 150000 entries, 0 to 149999\n",
            "Data columns (total 12 columns):\n",
            " #   Column                                Non-Null Count   Dtype  \n",
            "---  ------                                --------------   -----  \n",
            " 0   Unnamed: 0                            150000 non-null  int64  \n",
            " 1   SeriousDlqin2yrs                      150000 non-null  int64  \n",
            " 2   RevolvingUtilizationOfUnsecuredLines  150000 non-null  float64\n",
            " 3   age                                   150000 non-null  int64  \n",
            " 4   NumberOfTime30-59DaysPastDueNotWorse  150000 non-null  int64  \n",
            " 5   DebtRatio                             150000 non-null  float64\n",
            " 6   MonthlyIncome                         120269 non-null  float64\n",
            " 7   NumberOfOpenCreditLinesAndLoans       150000 non-null  int64  \n",
            " 8   NumberOfTimes90DaysLate               150000 non-null  int64  \n",
            " 9   NumberRealEstateLoansOrLines          150000 non-null  int64  \n",
            " 10  NumberOfTime60-89DaysPastDueNotWorse  150000 non-null  int64  \n",
            " 11  NumberOfDependents                    146076 non-null  float64\n",
            "dtypes: float64(4), int64(8)\n",
            "memory usage: 13.7 MB\n"
          ],
          "name": "stdout"
        }
      ]
    },
    {
      "cell_type": "code",
      "metadata": {
        "colab": {
          "base_uri": "https://localhost:8080/",
          "height": 706
        },
        "id": "1SFZCBQOXapU",
        "outputId": "cc6d8c98-c445-48ff-af72-f2a506dfd400"
      },
      "source": [
        "df.head(20)"
      ],
      "execution_count": 13,
      "outputs": [
        {
          "output_type": "execute_result",
          "data": {
            "text/html": [
              "<div>\n",
              "<style scoped>\n",
              "    .dataframe tbody tr th:only-of-type {\n",
              "        vertical-align: middle;\n",
              "    }\n",
              "\n",
              "    .dataframe tbody tr th {\n",
              "        vertical-align: top;\n",
              "    }\n",
              "\n",
              "    .dataframe thead th {\n",
              "        text-align: right;\n",
              "    }\n",
              "</style>\n",
              "<table border=\"1\" class=\"dataframe\">\n",
              "  <thead>\n",
              "    <tr style=\"text-align: right;\">\n",
              "      <th></th>\n",
              "      <th>Unnamed: 0</th>\n",
              "      <th>SeriousDlqin2yrs</th>\n",
              "      <th>RevolvingUtilizationOfUnsecuredLines</th>\n",
              "      <th>age</th>\n",
              "      <th>NumberOfTime30-59DaysPastDueNotWorse</th>\n",
              "      <th>DebtRatio</th>\n",
              "      <th>MonthlyIncome</th>\n",
              "      <th>NumberOfOpenCreditLinesAndLoans</th>\n",
              "      <th>NumberOfTimes90DaysLate</th>\n",
              "      <th>NumberRealEstateLoansOrLines</th>\n",
              "      <th>NumberOfTime60-89DaysPastDueNotWorse</th>\n",
              "      <th>NumberOfDependents</th>\n",
              "    </tr>\n",
              "  </thead>\n",
              "  <tbody>\n",
              "    <tr>\n",
              "      <th>0</th>\n",
              "      <td>1</td>\n",
              "      <td>1</td>\n",
              "      <td>0.766127</td>\n",
              "      <td>45</td>\n",
              "      <td>2</td>\n",
              "      <td>0.802982</td>\n",
              "      <td>9120.0</td>\n",
              "      <td>13</td>\n",
              "      <td>0</td>\n",
              "      <td>6</td>\n",
              "      <td>0</td>\n",
              "      <td>2.0</td>\n",
              "    </tr>\n",
              "    <tr>\n",
              "      <th>1</th>\n",
              "      <td>2</td>\n",
              "      <td>0</td>\n",
              "      <td>0.957151</td>\n",
              "      <td>40</td>\n",
              "      <td>0</td>\n",
              "      <td>0.121876</td>\n",
              "      <td>2600.0</td>\n",
              "      <td>4</td>\n",
              "      <td>0</td>\n",
              "      <td>0</td>\n",
              "      <td>0</td>\n",
              "      <td>1.0</td>\n",
              "    </tr>\n",
              "    <tr>\n",
              "      <th>2</th>\n",
              "      <td>3</td>\n",
              "      <td>0</td>\n",
              "      <td>0.658180</td>\n",
              "      <td>38</td>\n",
              "      <td>1</td>\n",
              "      <td>0.085113</td>\n",
              "      <td>3042.0</td>\n",
              "      <td>2</td>\n",
              "      <td>1</td>\n",
              "      <td>0</td>\n",
              "      <td>0</td>\n",
              "      <td>0.0</td>\n",
              "    </tr>\n",
              "    <tr>\n",
              "      <th>3</th>\n",
              "      <td>4</td>\n",
              "      <td>0</td>\n",
              "      <td>0.233810</td>\n",
              "      <td>30</td>\n",
              "      <td>0</td>\n",
              "      <td>0.036050</td>\n",
              "      <td>3300.0</td>\n",
              "      <td>5</td>\n",
              "      <td>0</td>\n",
              "      <td>0</td>\n",
              "      <td>0</td>\n",
              "      <td>0.0</td>\n",
              "    </tr>\n",
              "    <tr>\n",
              "      <th>4</th>\n",
              "      <td>5</td>\n",
              "      <td>0</td>\n",
              "      <td>0.907239</td>\n",
              "      <td>49</td>\n",
              "      <td>1</td>\n",
              "      <td>0.024926</td>\n",
              "      <td>63588.0</td>\n",
              "      <td>7</td>\n",
              "      <td>0</td>\n",
              "      <td>1</td>\n",
              "      <td>0</td>\n",
              "      <td>0.0</td>\n",
              "    </tr>\n",
              "    <tr>\n",
              "      <th>5</th>\n",
              "      <td>6</td>\n",
              "      <td>0</td>\n",
              "      <td>0.213179</td>\n",
              "      <td>74</td>\n",
              "      <td>0</td>\n",
              "      <td>0.375607</td>\n",
              "      <td>3500.0</td>\n",
              "      <td>3</td>\n",
              "      <td>0</td>\n",
              "      <td>1</td>\n",
              "      <td>0</td>\n",
              "      <td>1.0</td>\n",
              "    </tr>\n",
              "    <tr>\n",
              "      <th>6</th>\n",
              "      <td>7</td>\n",
              "      <td>0</td>\n",
              "      <td>0.305682</td>\n",
              "      <td>57</td>\n",
              "      <td>0</td>\n",
              "      <td>5710.000000</td>\n",
              "      <td>NaN</td>\n",
              "      <td>8</td>\n",
              "      <td>0</td>\n",
              "      <td>3</td>\n",
              "      <td>0</td>\n",
              "      <td>0.0</td>\n",
              "    </tr>\n",
              "    <tr>\n",
              "      <th>7</th>\n",
              "      <td>8</td>\n",
              "      <td>0</td>\n",
              "      <td>0.754464</td>\n",
              "      <td>39</td>\n",
              "      <td>0</td>\n",
              "      <td>0.209940</td>\n",
              "      <td>3500.0</td>\n",
              "      <td>8</td>\n",
              "      <td>0</td>\n",
              "      <td>0</td>\n",
              "      <td>0</td>\n",
              "      <td>0.0</td>\n",
              "    </tr>\n",
              "    <tr>\n",
              "      <th>8</th>\n",
              "      <td>9</td>\n",
              "      <td>0</td>\n",
              "      <td>0.116951</td>\n",
              "      <td>27</td>\n",
              "      <td>0</td>\n",
              "      <td>46.000000</td>\n",
              "      <td>NaN</td>\n",
              "      <td>2</td>\n",
              "      <td>0</td>\n",
              "      <td>0</td>\n",
              "      <td>0</td>\n",
              "      <td>NaN</td>\n",
              "    </tr>\n",
              "    <tr>\n",
              "      <th>9</th>\n",
              "      <td>10</td>\n",
              "      <td>0</td>\n",
              "      <td>0.189169</td>\n",
              "      <td>57</td>\n",
              "      <td>0</td>\n",
              "      <td>0.606291</td>\n",
              "      <td>23684.0</td>\n",
              "      <td>9</td>\n",
              "      <td>0</td>\n",
              "      <td>4</td>\n",
              "      <td>0</td>\n",
              "      <td>2.0</td>\n",
              "    </tr>\n",
              "    <tr>\n",
              "      <th>10</th>\n",
              "      <td>11</td>\n",
              "      <td>0</td>\n",
              "      <td>0.644226</td>\n",
              "      <td>30</td>\n",
              "      <td>0</td>\n",
              "      <td>0.309476</td>\n",
              "      <td>2500.0</td>\n",
              "      <td>5</td>\n",
              "      <td>0</td>\n",
              "      <td>0</td>\n",
              "      <td>0</td>\n",
              "      <td>0.0</td>\n",
              "    </tr>\n",
              "    <tr>\n",
              "      <th>11</th>\n",
              "      <td>12</td>\n",
              "      <td>0</td>\n",
              "      <td>0.018798</td>\n",
              "      <td>51</td>\n",
              "      <td>0</td>\n",
              "      <td>0.531529</td>\n",
              "      <td>6501.0</td>\n",
              "      <td>7</td>\n",
              "      <td>0</td>\n",
              "      <td>2</td>\n",
              "      <td>0</td>\n",
              "      <td>2.0</td>\n",
              "    </tr>\n",
              "    <tr>\n",
              "      <th>12</th>\n",
              "      <td>13</td>\n",
              "      <td>0</td>\n",
              "      <td>0.010352</td>\n",
              "      <td>46</td>\n",
              "      <td>0</td>\n",
              "      <td>0.298354</td>\n",
              "      <td>12454.0</td>\n",
              "      <td>13</td>\n",
              "      <td>0</td>\n",
              "      <td>2</td>\n",
              "      <td>0</td>\n",
              "      <td>2.0</td>\n",
              "    </tr>\n",
              "    <tr>\n",
              "      <th>13</th>\n",
              "      <td>14</td>\n",
              "      <td>1</td>\n",
              "      <td>0.964673</td>\n",
              "      <td>40</td>\n",
              "      <td>3</td>\n",
              "      <td>0.382965</td>\n",
              "      <td>13700.0</td>\n",
              "      <td>9</td>\n",
              "      <td>3</td>\n",
              "      <td>1</td>\n",
              "      <td>1</td>\n",
              "      <td>2.0</td>\n",
              "    </tr>\n",
              "    <tr>\n",
              "      <th>14</th>\n",
              "      <td>15</td>\n",
              "      <td>0</td>\n",
              "      <td>0.019657</td>\n",
              "      <td>76</td>\n",
              "      <td>0</td>\n",
              "      <td>477.000000</td>\n",
              "      <td>0.0</td>\n",
              "      <td>6</td>\n",
              "      <td>0</td>\n",
              "      <td>1</td>\n",
              "      <td>0</td>\n",
              "      <td>0.0</td>\n",
              "    </tr>\n",
              "    <tr>\n",
              "      <th>15</th>\n",
              "      <td>16</td>\n",
              "      <td>0</td>\n",
              "      <td>0.548458</td>\n",
              "      <td>64</td>\n",
              "      <td>0</td>\n",
              "      <td>0.209892</td>\n",
              "      <td>11362.0</td>\n",
              "      <td>7</td>\n",
              "      <td>0</td>\n",
              "      <td>1</td>\n",
              "      <td>0</td>\n",
              "      <td>2.0</td>\n",
              "    </tr>\n",
              "    <tr>\n",
              "      <th>16</th>\n",
              "      <td>17</td>\n",
              "      <td>0</td>\n",
              "      <td>0.061086</td>\n",
              "      <td>78</td>\n",
              "      <td>0</td>\n",
              "      <td>2058.000000</td>\n",
              "      <td>NaN</td>\n",
              "      <td>10</td>\n",
              "      <td>0</td>\n",
              "      <td>2</td>\n",
              "      <td>0</td>\n",
              "      <td>0.0</td>\n",
              "    </tr>\n",
              "    <tr>\n",
              "      <th>17</th>\n",
              "      <td>18</td>\n",
              "      <td>0</td>\n",
              "      <td>0.166284</td>\n",
              "      <td>53</td>\n",
              "      <td>0</td>\n",
              "      <td>0.188274</td>\n",
              "      <td>8800.0</td>\n",
              "      <td>7</td>\n",
              "      <td>0</td>\n",
              "      <td>0</td>\n",
              "      <td>0</td>\n",
              "      <td>0.0</td>\n",
              "    </tr>\n",
              "    <tr>\n",
              "      <th>18</th>\n",
              "      <td>19</td>\n",
              "      <td>0</td>\n",
              "      <td>0.221813</td>\n",
              "      <td>43</td>\n",
              "      <td>0</td>\n",
              "      <td>0.527888</td>\n",
              "      <td>3280.0</td>\n",
              "      <td>7</td>\n",
              "      <td>0</td>\n",
              "      <td>1</td>\n",
              "      <td>0</td>\n",
              "      <td>2.0</td>\n",
              "    </tr>\n",
              "    <tr>\n",
              "      <th>19</th>\n",
              "      <td>20</td>\n",
              "      <td>0</td>\n",
              "      <td>0.602794</td>\n",
              "      <td>25</td>\n",
              "      <td>0</td>\n",
              "      <td>0.065868</td>\n",
              "      <td>333.0</td>\n",
              "      <td>2</td>\n",
              "      <td>0</td>\n",
              "      <td>0</td>\n",
              "      <td>0</td>\n",
              "      <td>0.0</td>\n",
              "    </tr>\n",
              "  </tbody>\n",
              "</table>\n",
              "</div>"
            ],
            "text/plain": [
              "    Unnamed: 0  SeriousDlqin2yrs  RevolvingUtilizationOfUnsecuredLines  age  \\\n",
              "0            1                 1                              0.766127   45   \n",
              "1            2                 0                              0.957151   40   \n",
              "2            3                 0                              0.658180   38   \n",
              "3            4                 0                              0.233810   30   \n",
              "4            5                 0                              0.907239   49   \n",
              "5            6                 0                              0.213179   74   \n",
              "6            7                 0                              0.305682   57   \n",
              "7            8                 0                              0.754464   39   \n",
              "8            9                 0                              0.116951   27   \n",
              "9           10                 0                              0.189169   57   \n",
              "10          11                 0                              0.644226   30   \n",
              "11          12                 0                              0.018798   51   \n",
              "12          13                 0                              0.010352   46   \n",
              "13          14                 1                              0.964673   40   \n",
              "14          15                 0                              0.019657   76   \n",
              "15          16                 0                              0.548458   64   \n",
              "16          17                 0                              0.061086   78   \n",
              "17          18                 0                              0.166284   53   \n",
              "18          19                 0                              0.221813   43   \n",
              "19          20                 0                              0.602794   25   \n",
              "\n",
              "    NumberOfTime30-59DaysPastDueNotWorse    DebtRatio  MonthlyIncome  \\\n",
              "0                                      2     0.802982         9120.0   \n",
              "1                                      0     0.121876         2600.0   \n",
              "2                                      1     0.085113         3042.0   \n",
              "3                                      0     0.036050         3300.0   \n",
              "4                                      1     0.024926        63588.0   \n",
              "5                                      0     0.375607         3500.0   \n",
              "6                                      0  5710.000000            NaN   \n",
              "7                                      0     0.209940         3500.0   \n",
              "8                                      0    46.000000            NaN   \n",
              "9                                      0     0.606291        23684.0   \n",
              "10                                     0     0.309476         2500.0   \n",
              "11                                     0     0.531529         6501.0   \n",
              "12                                     0     0.298354        12454.0   \n",
              "13                                     3     0.382965        13700.0   \n",
              "14                                     0   477.000000            0.0   \n",
              "15                                     0     0.209892        11362.0   \n",
              "16                                     0  2058.000000            NaN   \n",
              "17                                     0     0.188274         8800.0   \n",
              "18                                     0     0.527888         3280.0   \n",
              "19                                     0     0.065868          333.0   \n",
              "\n",
              "    NumberOfOpenCreditLinesAndLoans  NumberOfTimes90DaysLate  \\\n",
              "0                                13                        0   \n",
              "1                                 4                        0   \n",
              "2                                 2                        1   \n",
              "3                                 5                        0   \n",
              "4                                 7                        0   \n",
              "5                                 3                        0   \n",
              "6                                 8                        0   \n",
              "7                                 8                        0   \n",
              "8                                 2                        0   \n",
              "9                                 9                        0   \n",
              "10                                5                        0   \n",
              "11                                7                        0   \n",
              "12                               13                        0   \n",
              "13                                9                        3   \n",
              "14                                6                        0   \n",
              "15                                7                        0   \n",
              "16                               10                        0   \n",
              "17                                7                        0   \n",
              "18                                7                        0   \n",
              "19                                2                        0   \n",
              "\n",
              "    NumberRealEstateLoansOrLines  NumberOfTime60-89DaysPastDueNotWorse  \\\n",
              "0                              6                                     0   \n",
              "1                              0                                     0   \n",
              "2                              0                                     0   \n",
              "3                              0                                     0   \n",
              "4                              1                                     0   \n",
              "5                              1                                     0   \n",
              "6                              3                                     0   \n",
              "7                              0                                     0   \n",
              "8                              0                                     0   \n",
              "9                              4                                     0   \n",
              "10                             0                                     0   \n",
              "11                             2                                     0   \n",
              "12                             2                                     0   \n",
              "13                             1                                     1   \n",
              "14                             1                                     0   \n",
              "15                             1                                     0   \n",
              "16                             2                                     0   \n",
              "17                             0                                     0   \n",
              "18                             1                                     0   \n",
              "19                             0                                     0   \n",
              "\n",
              "    NumberOfDependents  \n",
              "0                  2.0  \n",
              "1                  1.0  \n",
              "2                  0.0  \n",
              "3                  0.0  \n",
              "4                  0.0  \n",
              "5                  1.0  \n",
              "6                  0.0  \n",
              "7                  0.0  \n",
              "8                  NaN  \n",
              "9                  2.0  \n",
              "10                 0.0  \n",
              "11                 2.0  \n",
              "12                 2.0  \n",
              "13                 2.0  \n",
              "14                 0.0  \n",
              "15                 2.0  \n",
              "16                 0.0  \n",
              "17                 0.0  \n",
              "18                 2.0  \n",
              "19                 0.0  "
            ]
          },
          "metadata": {
            "tags": []
          },
          "execution_count": 13
        }
      ]
    },
    {
      "cell_type": "code",
      "metadata": {
        "colab": {
          "base_uri": "https://localhost:8080/"
        },
        "id": "tBXcGhBnXgWj",
        "outputId": "345698f3-344d-4e0a-f636-c1cdf71980d5"
      },
      "source": [
        "# What percentage of data is missing in the feature\n",
        "\n",
        "round(df.isnull().sum(axis=0)/len(df),2)*100\n",
        "\n",
        "# Looks like monthly income has 20% of missing data and 3% missing in number of Dependents"
      ],
      "execution_count": 14,
      "outputs": [
        {
          "output_type": "execute_result",
          "data": {
            "text/plain": [
              "Unnamed: 0                               0.0\n",
              "SeriousDlqin2yrs                         0.0\n",
              "RevolvingUtilizationOfUnsecuredLines     0.0\n",
              "age                                      0.0\n",
              "NumberOfTime30-59DaysPastDueNotWorse     0.0\n",
              "DebtRatio                                0.0\n",
              "MonthlyIncome                           20.0\n",
              "NumberOfOpenCreditLinesAndLoans          0.0\n",
              "NumberOfTimes90DaysLate                  0.0\n",
              "NumberRealEstateLoansOrLines             0.0\n",
              "NumberOfTime60-89DaysPastDueNotWorse     0.0\n",
              "NumberOfDependents                       3.0\n",
              "dtype: float64"
            ]
          },
          "metadata": {
            "tags": []
          },
          "execution_count": 14
        }
      ]
    },
    {
      "cell_type": "code",
      "metadata": {
        "colab": {
          "base_uri": "https://localhost:8080/"
        },
        "id": "EcO-DP0bYKIV",
        "outputId": "7ffe6f83-af7f-4982-805a-9d75dc90c76a"
      },
      "source": [
        "#Checking unique number of borrowers, Entire set of data set is unique borrowers(1), before that convert unnamed columns to as 0\n",
        "df['Unnamed: 0'].nunique()/len(df)\n",
        "df.columns"
      ],
      "execution_count": 15,
      "outputs": [
        {
          "output_type": "execute_result",
          "data": {
            "text/plain": [
              "Index(['Unnamed: 0', 'SeriousDlqin2yrs',\n",
              "       'RevolvingUtilizationOfUnsecuredLines', 'age',\n",
              "       'NumberOfTime30-59DaysPastDueNotWorse', 'DebtRatio', 'MonthlyIncome',\n",
              "       'NumberOfOpenCreditLinesAndLoans', 'NumberOfTimes90DaysLate',\n",
              "       'NumberRealEstateLoansOrLines', 'NumberOfTime60-89DaysPastDueNotWorse',\n",
              "       'NumberOfDependents'],\n",
              "      dtype='object')"
            ]
          },
          "metadata": {
            "tags": []
          },
          "execution_count": 15
        }
      ]
    },
    {
      "cell_type": "code",
      "metadata": {
        "colab": {
          "base_uri": "https://localhost:8080/"
        },
        "id": "p4YUC6ZTYfMd",
        "outputId": "4b9314c2-281a-4a2c-c3e4-c9579faddc79"
      },
      "source": [
        "# convert unnamed columns rename to customer ID\n",
        "df.rename(columns = {'Unnamed: 0' : 'CustomerID'},inplace=True)\n",
        "df.columns"
      ],
      "execution_count": 16,
      "outputs": [
        {
          "output_type": "execute_result",
          "data": {
            "text/plain": [
              "Index(['CustomerID', 'SeriousDlqin2yrs',\n",
              "       'RevolvingUtilizationOfUnsecuredLines', 'age',\n",
              "       'NumberOfTime30-59DaysPastDueNotWorse', 'DebtRatio', 'MonthlyIncome',\n",
              "       'NumberOfOpenCreditLinesAndLoans', 'NumberOfTimes90DaysLate',\n",
              "       'NumberRealEstateLoansOrLines', 'NumberOfTime60-89DaysPastDueNotWorse',\n",
              "       'NumberOfDependents'],\n",
              "      dtype='object')"
            ]
          },
          "metadata": {
            "tags": []
          },
          "execution_count": 16
        }
      ]
    },
    {
      "cell_type": "code",
      "metadata": {
        "colab": {
          "base_uri": "https://localhost:8080/"
        },
        "id": "fx72lZLXZneJ",
        "outputId": "854805e8-cf29-45ea-aef0-0a70a3e8d19a"
      },
      "source": [
        "# Target Variable\n",
        "print(df['SeriousDlqin2yrs'].unique())\n",
        "print()\n",
        "print('{}% of the borrowers falling in the serious delinquency'\n",
        ".format((df['SeriousDlqin2yrs'].sum()/len(df))*100))\n",
        " "
      ],
      "execution_count": 17,
      "outputs": [
        {
          "output_type": "stream",
          "text": [
            "[1 0]\n",
            "\n",
            "6.683999999999999% of the borrowers falling in the serious delinquency\n"
          ],
          "name": "stdout"
        }
      ]
    },
    {
      "cell_type": "code",
      "metadata": {
        "colab": {
          "base_uri": "https://localhost:8080/",
          "height": 404
        },
        "id": "U6fcKjpwdAdZ",
        "outputId": "1aa432c5-c90c-40b4-8e7f-1e042316e6a3"
      },
      "source": [
        "fig,axes = plt.subplots(1,2,figsize=(12,6) )\n",
        "df['SeriousDlqin2yrs'].value_counts().plot.pie(explode=[0,0.1], autopct='%1.1f%%', ax=axes[0])\n",
        "axes[0].set_title('SeriousDlqin2yrs')\n",
        "sns.countplot('SeriousDlqin2yrs', data=df, ax=axes[1])\n",
        "axes[1].set_title('SeriousDlqin2yrs')\n",
        "plt.show()\n",
        "\n",
        "#This is clearly class imbalance problem"
      ],
      "execution_count": 18,
      "outputs": [
        {
          "output_type": "display_data",
          "data": {
            "image/png": "[encoded data removed]",
            "text/plain": [
              "<Figure size 864x432 with 2 Axes>"
            ]
          },
          "metadata": {
            "tags": [],
            "needs_background": "light"
          }
        }
      ]
    },
    {
      "cell_type": "code",
      "metadata": {
        "colab": {
          "base_uri": "https://localhost:8080/"
        },
        "id": "XCKOyTC5euDB",
        "outputId": "cb9e8218-9b66-403b-d1a2-241d947dfc0f"
      },
      "source": [
        "df['SeriousDlqin2yrs'].value_counts()"
      ],
      "execution_count": 19,
      "outputs": [
        {
          "output_type": "execute_result",
          "data": {
            "text/plain": [
              "0    139974\n",
              "1     10026\n",
              "Name: SeriousDlqin2yrs, dtype: int64"
            ]
          },
          "metadata": {
            "tags": []
          },
          "execution_count": 19
        }
      ]
    },
    {
      "cell_type": "code",
      "metadata": {
        "colab": {
          "base_uri": "https://localhost:8080/",
          "height": 334
        },
        "id": "l8a60HWJezrq",
        "outputId": "15dff103-8faa-4359-d659-4b0239a5c13b"
      },
      "source": [
        "df.describe()"
      ],
      "execution_count": 20,
      "outputs": [
        {
          "output_type": "execute_result",
          "data": {
            "text/html": [
              "<div>\n",
              "<style scoped>\n",
              "    .dataframe tbody tr th:only-of-type {\n",
              "        vertical-align: middle;\n",
              "    }\n",
              "\n",
              "    .dataframe tbody tr th {\n",
              "        vertical-align: top;\n",
              "    }\n",
              "\n",
              "    .dataframe thead th {\n",
              "        text-align: right;\n",
              "    }\n",
              "</style>\n",
              "<table border=\"1\" class=\"dataframe\">\n",
              "  <thead>\n",
              "    <tr style=\"text-align: right;\">\n",
              "      <th></th>\n",
              "      <th>CustomerID</th>\n",
              "      <th>SeriousDlqin2yrs</th>\n",
              "      <th>RevolvingUtilizationOfUnsecuredLines</th>\n",
              "      <th>age</th>\n",
              "      <th>NumberOfTime30-59DaysPastDueNotWorse</th>\n",
              "      <th>DebtRatio</th>\n",
              "      <th>MonthlyIncome</th>\n",
              "      <th>NumberOfOpenCreditLinesAndLoans</th>\n",
              "      <th>NumberOfTimes90DaysLate</th>\n",
              "      <th>NumberRealEstateLoansOrLines</th>\n",
              "      <th>NumberOfTime60-89DaysPastDueNotWorse</th>\n",
              "      <th>NumberOfDependents</th>\n",
              "    </tr>\n",
              "  </thead>\n",
              "  <tbody>\n",
              "    <tr>\n",
              "      <th>count</th>\n",
              "      <td>150000.000000</td>\n",
              "      <td>150000.000000</td>\n",
              "      <td>150000.000000</td>\n",
              "      <td>150000.000000</td>\n",
              "      <td>150000.000000</td>\n",
              "      <td>150000.000000</td>\n",
              "      <td>1.202690e+05</td>\n",
              "      <td>150000.000000</td>\n",
              "      <td>150000.000000</td>\n",
              "      <td>150000.000000</td>\n",
              "      <td>150000.000000</td>\n",
              "      <td>146076.000000</td>\n",
              "    </tr>\n",
              "    <tr>\n",
              "      <th>mean</th>\n",
              "      <td>75000.500000</td>\n",
              "      <td>0.066840</td>\n",
              "      <td>6.048438</td>\n",
              "      <td>52.295207</td>\n",
              "      <td>0.421033</td>\n",
              "      <td>353.005076</td>\n",
              "      <td>6.670221e+03</td>\n",
              "      <td>8.452760</td>\n",
              "      <td>0.265973</td>\n",
              "      <td>1.018240</td>\n",
              "      <td>0.240387</td>\n",
              "      <td>0.757222</td>\n",
              "    </tr>\n",
              "    <tr>\n",
              "      <th>std</th>\n",
              "      <td>43301.414527</td>\n",
              "      <td>0.249746</td>\n",
              "      <td>249.755371</td>\n",
              "      <td>14.771866</td>\n",
              "      <td>4.192781</td>\n",
              "      <td>2037.818523</td>\n",
              "      <td>1.438467e+04</td>\n",
              "      <td>5.145951</td>\n",
              "      <td>4.169304</td>\n",
              "      <td>1.129771</td>\n",
              "      <td>4.155179</td>\n",
              "      <td>1.115086</td>\n",
              "    </tr>\n",
              "    <tr>\n",
              "      <th>min</th>\n",
              "      <td>1.000000</td>\n",
              "      <td>0.000000</td>\n",
              "      <td>0.000000</td>\n",
              "      <td>0.000000</td>\n",
              "      <td>0.000000</td>\n",
              "      <td>0.000000</td>\n",
              "      <td>0.000000e+00</td>\n",
              "      <td>0.000000</td>\n",
              "      <td>0.000000</td>\n",
              "      <td>0.000000</td>\n",
              "      <td>0.000000</td>\n",
              "      <td>0.000000</td>\n",
              "    </tr>\n",
              "    <tr>\n",
              "      <th>25%</th>\n",
              "      <td>37500.750000</td>\n",
              "      <td>0.000000</td>\n",
              "      <td>0.029867</td>\n",
              "      <td>41.000000</td>\n",
              "      <td>0.000000</td>\n",
              "      <td>0.175074</td>\n",
              "      <td>3.400000e+03</td>\n",
              "      <td>5.000000</td>\n",
              "      <td>0.000000</td>\n",
              "      <td>0.000000</td>\n",
              "      <td>0.000000</td>\n",
              "      <td>0.000000</td>\n",
              "    </tr>\n",
              "    <tr>\n",
              "      <th>50%</th>\n",
              "      <td>75000.500000</td>\n",
              "      <td>0.000000</td>\n",
              "      <td>0.154181</td>\n",
              "      <td>52.000000</td>\n",
              "      <td>0.000000</td>\n",
              "      <td>0.366508</td>\n",
              "      <td>5.400000e+03</td>\n",
              "      <td>8.000000</td>\n",
              "      <td>0.000000</td>\n",
              "      <td>1.000000</td>\n",
              "      <td>0.000000</td>\n",
              "      <td>0.000000</td>\n",
              "    </tr>\n",
              "    <tr>\n",
              "      <th>75%</th>\n",
              "      <td>112500.250000</td>\n",
              "      <td>0.000000</td>\n",
              "      <td>0.559046</td>\n",
              "      <td>63.000000</td>\n",
              "      <td>0.000000</td>\n",
              "      <td>0.868254</td>\n",
              "      <td>8.249000e+03</td>\n",
              "      <td>11.000000</td>\n",
              "      <td>0.000000</td>\n",
              "      <td>2.000000</td>\n",
              "      <td>0.000000</td>\n",
              "      <td>1.000000</td>\n",
              "    </tr>\n",
              "    <tr>\n",
              "      <th>max</th>\n",
              "      <td>150000.000000</td>\n",
              "      <td>1.000000</td>\n",
              "      <td>50708.000000</td>\n",
              "      <td>109.000000</td>\n",
              "      <td>98.000000</td>\n",
              "      <td>329664.000000</td>\n",
              "      <td>3.008750e+06</td>\n",
              "      <td>58.000000</td>\n",
              "      <td>98.000000</td>\n",
              "      <td>54.000000</td>\n",
              "      <td>98.000000</td>\n",
              "      <td>20.000000</td>\n",
              "    </tr>\n",
              "  </tbody>\n",
              "</table>\n",
              "</div>"
            ],
            "text/plain": [
              "          CustomerID  SeriousDlqin2yrs  RevolvingUtilizationOfUnsecuredLines  \\\n",
              "count  150000.000000     150000.000000                         150000.000000   \n",
              "mean    75000.500000          0.066840                              6.048438   \n",
              "std     43301.414527          0.249746                            249.755371   \n",
              "min         1.000000          0.000000                              0.000000   \n",
              "25%     37500.750000          0.000000                              0.029867   \n",
              "50%     75000.500000          0.000000                              0.154181   \n",
              "75%    112500.250000          0.000000                              0.559046   \n",
              "max    150000.000000          1.000000                          50708.000000   \n",
              "\n",
              "                 age  NumberOfTime30-59DaysPastDueNotWorse      DebtRatio  \\\n",
              "count  150000.000000                         150000.000000  150000.000000   \n",
              "mean       52.295207                              0.421033     353.005076   \n",
              "std        14.771866                              4.192781    2037.818523   \n",
              "min         0.000000                              0.000000       0.000000   \n",
              "25%        41.000000                              0.000000       0.175074   \n",
              "50%        52.000000                              0.000000       0.366508   \n",
              "75%        63.000000                              0.000000       0.868254   \n",
              "max       109.000000                             98.000000  329664.000000   \n",
              "\n",
              "       MonthlyIncome  NumberOfOpenCreditLinesAndLoans  \\\n",
              "count   1.202690e+05                    150000.000000   \n",
              "mean    6.670221e+03                         8.452760   \n",
              "std     1.438467e+04                         5.145951   \n",
              "min     0.000000e+00                         0.000000   \n",
              "25%     3.400000e+03                         5.000000   \n",
              "50%     5.400000e+03                         8.000000   \n",
              "75%     8.249000e+03                        11.000000   \n",
              "max     3.008750e+06                        58.000000   \n",
              "\n",
              "       NumberOfTimes90DaysLate  NumberRealEstateLoansOrLines  \\\n",
              "count            150000.000000                 150000.000000   \n",
              "mean                  0.265973                      1.018240   \n",
              "std                   4.169304                      1.129771   \n",
              "min                   0.000000                      0.000000   \n",
              "25%                   0.000000                      0.000000   \n",
              "50%                   0.000000                      1.000000   \n",
              "75%                   0.000000                      2.000000   \n",
              "max                  98.000000                     54.000000   \n",
              "\n",
              "       NumberOfTime60-89DaysPastDueNotWorse  NumberOfDependents  \n",
              "count                         150000.000000       146076.000000  \n",
              "mean                               0.240387            0.757222  \n",
              "std                                4.155179            1.115086  \n",
              "min                                0.000000            0.000000  \n",
              "25%                                0.000000            0.000000  \n",
              "50%                                0.000000            0.000000  \n",
              "75%                                0.000000            1.000000  \n",
              "max                               98.000000           20.000000  "
            ]
          },
          "metadata": {
            "tags": []
          },
          "execution_count": 20
        }
      ]
    },
    {
      "cell_type": "code",
      "metadata": {
        "id": "H3FY1NVufiRV"
      },
      "source": [
        "\n",
        "data = df.drop(columns=['SeriousDlqin2yrs'],axis=1)"
      ],
      "execution_count": 21,
      "outputs": []
    },
    {
      "cell_type": "code",
      "metadata": {
        "id": "hbNdXhxIgEEf"
      },
      "source": [
        "y = df['SeriousDlqin2yrs']"
      ],
      "execution_count": 22,
      "outputs": []
    },
    {
      "cell_type": "code",
      "metadata": {
        "id": "p94k5auIgKXF"
      },
      "source": [
        "from sklearn.model_selection import train_test_split"
      ],
      "execution_count": 23,
      "outputs": []
    },
    {
      "cell_type": "code",
      "metadata": {
        "colab": {
          "base_uri": "https://localhost:8080/"
        },
        "id": "b6O3hAeYjx-I",
        "outputId": "41ce32c9-3af2-4d82-d6e0-1be422db987f"
      },
      "source": [
        "# Splitting the dataset into train and test validation\n",
        "df_test, df_train, y_test, y_train = train_test_split(data,y, test_size= 0.8, random_state=42, stratify= y)\n",
        "df_test.shape, df_train.shape"
      ],
      "execution_count": 24,
      "outputs": [
        {
          "output_type": "execute_result",
          "data": {
            "text/plain": [
              "((30000, 11), (120000, 11))"
            ]
          },
          "metadata": {
            "tags": []
          },
          "execution_count": 24
        }
      ]
    },
    {
      "cell_type": "code",
      "metadata": {
        "colab": {
          "base_uri": "https://localhost:8080/"
        },
        "id": "wDx3DBZ4XZz6",
        "outputId": "ce22b9f9-53ac-4262-838e-dc30ba6463b9"
      },
      "source": [
        "print('Event rate in the training dataset : ', np.mean(y_train))\n",
        "print()\n",
        "print('Event rate in the test dataset :', np.mean(y_test))\n",
        "print()\n",
        "print('Event rate in the entire dataset:', np.mean(y))\n"
      ],
      "execution_count": 25,
      "outputs": [
        {
          "output_type": "stream",
          "text": [
            "Event rate in the training dataset :  0.06684166666666666\n",
            "\n",
            "Event rate in the test dataset : 0.06683333333333333\n",
            "\n",
            "Event rate in the entire dataset: 0.06684\n"
          ],
          "name": "stdout"
        }
      ]
    },
    {
      "cell_type": "code",
      "metadata": {
        "colab": {
          "base_uri": "https://localhost:8080/"
        },
        "id": "gVtdK7kxYYGD",
        "outputId": "1634a65a-e1a0-4112-be26-3b70aad6458a"
      },
      "source": [
        "train = pd.concat([df_train, y_train], axis=1)\n",
        "train.shape"
      ],
      "execution_count": 26,
      "outputs": [
        {
          "output_type": "execute_result",
          "data": {
            "text/plain": [
              "(120000, 12)"
            ]
          },
          "metadata": {
            "tags": []
          },
          "execution_count": 26
        }
      ]
    },
    {
      "cell_type": "code",
      "metadata": {
        "colab": {
          "base_uri": "https://localhost:8080/"
        },
        "id": "n2OeKKmybIyP",
        "outputId": "6c7f29d7-9820-4523-bd4b-3932d1a56d20"
      },
      "source": [
        "test = pd.concat([df_test, y_test], axis=1)\n",
        "test.shape"
      ],
      "execution_count": 27,
      "outputs": [
        {
          "output_type": "execute_result",
          "data": {
            "text/plain": [
              "(30000, 12)"
            ]
          },
          "metadata": {
            "tags": []
          },
          "execution_count": 27
        }
      ]
    },
    {
      "cell_type": "code",
      "metadata": {
        "id": "PEVv73JMbymn"
      },
      "source": [
        "# Univariate Analysis using Training Numerical dataset\n",
        "\n",
        "def plot_hist_boxplot(column):\n",
        "  fig, [ax1,ax2] = plt.subplots(1,2, figsize=(12,5))\n",
        "  sns.distplot(train[train[column].notnull()][column],ax=ax1)\n",
        "  sns.boxplot(y=train[train[column].notnull()][column],ax=ax2)\n",
        "  print(\"Skewness : \", skew(train[train[column].notnull()][column]))\n",
        "  print(\"kurtosis : \", kurtosis(train[train[column].notnull()][column]))\n",
        "  plt.show()"
      ],
      "execution_count": 28,
      "outputs": []
    },
    {
      "cell_type": "code",
      "metadata": {
        "id": "iEWC5Xf9fRmz"
      },
      "source": [
        "def plot_count_boxplot(column):\n",
        "  fig, [ax1,ax2] = plt.subplots(1,2, figsize=(12,6))\n",
        "  sns.countplot(train[train[column].notnull()][column],ax=ax1)\n",
        "  sns.boxplot(y=train[train[column].notnull()][column],ax=ax2)\n",
        "  print(\"Skewness : \", skew(train[train[column].notnull()][column]))\n",
        "  print(\"kurtosis : \", kurtosis(train[train[column].notnull()][column]))\n",
        "  plt.show()\n"
      ],
      "execution_count": 29,
      "outputs": []
    },
    {
      "cell_type": "code",
      "metadata": {
        "colab": {
          "base_uri": "https://localhost:8080/",
          "height": 368
        },
        "id": "DsQwjLMffoXG",
        "outputId": "5aee76e2-2c7d-4c66-87e6-59a8026bef53"
      },
      "source": [
        "plot_hist_boxplot('RevolvingUtilizationOfUnsecuredLines')"
      ],
      "execution_count": 30,
      "outputs": [
        {
          "output_type": "stream",
          "text": [
            "Skewness :  104.51383625945637\n",
            "kurtosis :  16544.639125909292\n"
          ],
          "name": "stdout"
        },
        {
          "output_type": "display_data",
          "data": {
            "image/png": "[encoded data removed]",
            "text/plain": [
              "<Figure size 864x360 with 2 Axes>"
            ]
          },
          "metadata": {
            "tags": [],
            "needs_background": "light"
          }
        }
      ]
    },
    {
      "cell_type": "code",
      "metadata": {
        "colab": {
          "base_uri": "https://localhost:8080/",
          "height": 368
        },
        "id": "lDnlhEkhycA4",
        "outputId": "8cc3f333-3228-4f6f-8d71-7906358fe7c4"
      },
      "source": [
        "plot_hist_boxplot('age')"
      ],
      "execution_count": 31,
      "outputs": [
        {
          "output_type": "stream",
          "text": [
            "Skewness :  0.1883379862757487\n",
            "kurtosis :  -0.4989842553901078\n"
          ],
          "name": "stdout"
        },
        {
          "output_type": "display_data",
          "data": {
            "image/png": "[encoded data removed]",
            "text/plain": [
              "<Figure size 864x360 with 2 Axes>"
            ]
          },
          "metadata": {
            "tags": [],
            "needs_background": "light"
          }
        }
      ]
    },
    {
      "cell_type": "code",
      "metadata": {
        "colab": {
          "base_uri": "https://localhost:8080/",
          "height": 368
        },
        "id": "QCFQwKVKynx2",
        "outputId": "4fa996b7-f133-491b-f437-4ea6fb5c99e4"
      },
      "source": [
        "plot_hist_boxplot('DebtRatio')"
      ],
      "execution_count": 32,
      "outputs": [
        {
          "output_type": "stream",
          "text": [
            "Skewness :  95.78845308753385\n",
            "kurtosis :  14212.893907176613\n"
          ],
          "name": "stdout"
        },
        {
          "output_type": "display_data",
          "data": {
            "image/png": "[encoded data removed]",
            "text/plain": [
              "<Figure size 864x360 with 2 Axes>"
            ]
          },
          "metadata": {
            "tags": [],
            "needs_background": "light"
          }
        }
      ]
    },
    {
      "cell_type": "code",
      "metadata": {
        "colab": {
          "base_uri": "https://localhost:8080/",
          "height": 379
        },
        "id": "w1wwPPRkyysl",
        "outputId": "526c8b23-bbf2-41f4-8463-c765346cd329"
      },
      "source": [
        "plot_hist_boxplot('MonthlyIncome')"
      ],
      "execution_count": 33,
      "outputs": [
        {
          "output_type": "stream",
          "text": [
            "Skewness :  117.98020100894865\n",
            "kurtosis :  19658.712451467025\n"
          ],
          "name": "stdout"
        },
        {
          "output_type": "display_data",
          "data": {
            "image/png": "[encoded data removed]",
            "text/plain": [
              "<Figure size 864x360 with 2 Axes>"
            ]
          },
          "metadata": {
            "tags": [],
            "needs_background": "light"
          }
        }
      ]
    },
    {
      "cell_type": "code",
      "metadata": {
        "colab": {
          "base_uri": "https://localhost:8080/",
          "height": 1000
        },
        "id": "3f4iGlY30DHX",
        "outputId": "91880159-6fef-4f5b-bfa3-745356323193"
      },
      "source": [
        "plot_hist_boxplot('NumberOfOpenCreditLinesAndLoans')\n",
        "plot_hist_boxplot('NumberOfTime30-59DaysPastDueNotWorse')\n",
        "plot_hist_boxplot('DebtRatio')\n",
        "plot_hist_boxplot('MonthlyIncome')\n",
        "plot_hist_boxplot('NumberOfTimes90DaysLate')\n",
        "plot_hist_boxplot('NumberRealEstateLoansOrLines')\n",
        "plot_hist_boxplot('NumberOfTime60-89DaysPastDueNotWorse')\n",
        "plot_hist_boxplot('NumberOfDependents')\n",
        "#data.columns"
      ],
      "execution_count": 34,
      "outputs": [
        {
          "output_type": "stream",
          "text": [
            "Skewness :  1.2145901173605567\n",
            "kurtosis :  3.114685912968633\n"
          ],
          "name": "stdout"
        },
        {
          "output_type": "display_data",
          "data": {
            "image/png": "[encoded data removed]",
            "text/plain": [
              "<Figure size 864x360 with 2 Axes>"
            ]
          },
          "metadata": {
            "tags": [],
            "needs_background": "light"
          }
        },
        {
          "output_type": "stream",
          "text": [
            "Skewness :  22.56005009391927\n",
            "kurtosis :  520.5861400129826\n"
          ],
          "name": "stdout"
        },
        {
          "output_type": "display_data",
          "data": {
            "image/png": "[encoded data removed]",
            "text/plain": [
              "<Figure size 864x360 with 2 Axes>"
            ]
          },
          "metadata": {
            "tags": [],
            "needs_background": "light"
          }
        },
        {
          "output_type": "stream",
          "text": [
            "Skewness :  95.78845308753385\n",
            "kurtosis :  14212.893907176613\n"
          ],
          "name": "stdout"
        },
        {
          "output_type": "display_data",
          "data": {
            "image/png": "[encoded data removed]",
            "text/plain": [
              "<Figure size 864x360 with 2 Axes>"
            ]
          },
          "metadata": {
            "tags": [],
            "needs_background": "light"
          }
        },
        {
          "output_type": "stream",
          "text": [
            "Skewness :  117.98020100894865\n",
            "kurtosis :  19658.712451467025\n"
          ],
          "name": "stdout"
        },
        {
          "output_type": "display_data",
          "data": {
            "image/png": "[encoded data removed]",
            "text/plain": [
              "<Figure size 864x360 with 2 Axes>"
            ]
          },
          "metadata": {
            "tags": [],
            "needs_background": "light"
          }
        },
        {
          "output_type": "stream",
          "text": [
            "Skewness :  23.0371547196054\n",
            "kurtosis :  535.4918343524778\n"
          ],
          "name": "stdout"
        },
        {
          "output_type": "display_data",
          "data": {
            "image/png": "[encoded data removed]",
            "text/plain": [
              "<Figure size 864x360 with 2 Axes>"
            ]
          },
          "metadata": {
            "tags": [],
            "needs_background": "light"
          }
        },
        {
          "output_type": "stream",
          "text": [
            "Skewness :  3.635466187390173\n",
            "kurtosis :  67.79380246787325\n"
          ],
          "name": "stdout"
        },
        {
          "output_type": "display_data",
          "data": {
            "image/png": "[encoded data removed]",
            "text/plain": [
              "<Figure size 864x360 with 2 Axes>"
            ]
          },
          "metadata": {
            "tags": [],
            "needs_background": "light"
          }
        },
        {
          "output_type": "stream",
          "text": [
            "Skewness :  23.287569502079286\n",
            "kurtosis :  543.6121286456557\n"
          ],
          "name": "stdout"
        },
        {
          "output_type": "display_data",
          "data": {
            "image/png": "[encoded data removed]",
            "text/plain": [
              "<Figure size 864x360 with 2 Axes>"
            ]
          },
          "metadata": {
            "tags": [],
            "needs_background": "light"
          }
        },
        {
          "output_type": "stream",
          "text": [
            "Skewness :  1.5991497659767622\n",
            "kurtosis :  3.1681417562669285\n"
          ],
          "name": "stdout"
        },
        {
          "output_type": "display_data",
          "data": {
            "image/png": "[encoded data removed]",
            "text/plain": [
              "<Figure size 864x360 with 2 Axes>"
            ]
          },
          "metadata": {
            "tags": [],
            "needs_background": "light"
          }
        }
      ]
    },
    {
      "cell_type": "code",
      "metadata": {
        "colab": {
          "base_uri": "https://localhost:8080/"
        },
        "id": "cf6hQZ0H1j3J",
        "outputId": "ea5d42e8-59a6-4981-e93d-f2cdb777f49a"
      },
      "source": [
        "data.columns"
      ],
      "execution_count": 35,
      "outputs": [
        {
          "output_type": "execute_result",
          "data": {
            "text/plain": [
              "Index(['CustomerID', 'RevolvingUtilizationOfUnsecuredLines', 'age',\n",
              "       'NumberOfTime30-59DaysPastDueNotWorse', 'DebtRatio', 'MonthlyIncome',\n",
              "       'NumberOfOpenCreditLinesAndLoans', 'NumberOfTimes90DaysLate',\n",
              "       'NumberRealEstateLoansOrLines', 'NumberOfTime60-89DaysPastDueNotWorse',\n",
              "       'NumberOfDependents'],\n",
              "      dtype='object')"
            ]
          },
          "metadata": {
            "tags": []
          },
          "execution_count": 35
        }
      ]
    },
    {
      "cell_type": "code",
      "metadata": {
        "colab": {
          "base_uri": "https://localhost:8080/",
          "height": 359
        },
        "id": "VLTdoM431oBh",
        "outputId": "5a694085-c3fb-4506-e482-4764058a532f"
      },
      "source": [
        "cols_for_stats = ['RevolvingUtilizationOfUnsecuredLines', 'age',\n",
        "       'NumberOfTime30-59DaysPastDueNotWorse', 'DebtRatio', 'MonthlyIncome',\n",
        "       'NumberOfOpenCreditLinesAndLoans', 'NumberOfTimes90DaysLate',\n",
        "       'NumberRealEstateLoansOrLines', 'NumberOfTime60-89DaysPastDueNotWorse',\n",
        "       'NumberOfDependents']\n",
        "skewness = [] ; kurt = []\n",
        "\n",
        "for column in cols_for_stats:\n",
        "   skewness.append(skew(train[train[column].notnull()][column]))\n",
        "   kurt.append(kurtosis(train[train[column].notnull()][column])) \n",
        "\n",
        "stats = pd.DataFrame({'Skewness' : skewness, 'Kurtosis' : kurt}, index=[col for col in cols_for_stats])\n",
        "stats.sort_values(by=['Skewness'], ascending=False)\n",
        "        "
      ],
      "execution_count": 36,
      "outputs": [
        {
          "output_type": "execute_result",
          "data": {
            "text/html": [
              "<div>\n",
              "<style scoped>\n",
              "    .dataframe tbody tr th:only-of-type {\n",
              "        vertical-align: middle;\n",
              "    }\n",
              "\n",
              "    .dataframe tbody tr th {\n",
              "        vertical-align: top;\n",
              "    }\n",
              "\n",
              "    .dataframe thead th {\n",
              "        text-align: right;\n",
              "    }\n",
              "</style>\n",
              "<table border=\"1\" class=\"dataframe\">\n",
              "  <thead>\n",
              "    <tr style=\"text-align: right;\">\n",
              "      <th></th>\n",
              "      <th>Skewness</th>\n",
              "      <th>Kurtosis</th>\n",
              "    </tr>\n",
              "  </thead>\n",
              "  <tbody>\n",
              "    <tr>\n",
              "      <th>MonthlyIncome</th>\n",
              "      <td>117.980201</td>\n",
              "      <td>19658.712451</td>\n",
              "    </tr>\n",
              "    <tr>\n",
              "      <th>RevolvingUtilizationOfUnsecuredLines</th>\n",
              "      <td>104.513836</td>\n",
              "      <td>16544.639126</td>\n",
              "    </tr>\n",
              "    <tr>\n",
              "      <th>DebtRatio</th>\n",
              "      <td>95.788453</td>\n",
              "      <td>14212.893907</td>\n",
              "    </tr>\n",
              "    <tr>\n",
              "      <th>NumberOfTime60-89DaysPastDueNotWorse</th>\n",
              "      <td>23.287570</td>\n",
              "      <td>543.612129</td>\n",
              "    </tr>\n",
              "    <tr>\n",
              "      <th>NumberOfTimes90DaysLate</th>\n",
              "      <td>23.037155</td>\n",
              "      <td>535.491834</td>\n",
              "    </tr>\n",
              "    <tr>\n",
              "      <th>NumberOfTime30-59DaysPastDueNotWorse</th>\n",
              "      <td>22.560050</td>\n",
              "      <td>520.586140</td>\n",
              "    </tr>\n",
              "    <tr>\n",
              "      <th>NumberRealEstateLoansOrLines</th>\n",
              "      <td>3.635466</td>\n",
              "      <td>67.793802</td>\n",
              "    </tr>\n",
              "    <tr>\n",
              "      <th>NumberOfDependents</th>\n",
              "      <td>1.599150</td>\n",
              "      <td>3.168142</td>\n",
              "    </tr>\n",
              "    <tr>\n",
              "      <th>NumberOfOpenCreditLinesAndLoans</th>\n",
              "      <td>1.214590</td>\n",
              "      <td>3.114686</td>\n",
              "    </tr>\n",
              "    <tr>\n",
              "      <th>age</th>\n",
              "      <td>0.188338</td>\n",
              "      <td>-0.498984</td>\n",
              "    </tr>\n",
              "  </tbody>\n",
              "</table>\n",
              "</div>"
            ],
            "text/plain": [
              "                                        Skewness      Kurtosis\n",
              "MonthlyIncome                         117.980201  19658.712451\n",
              "RevolvingUtilizationOfUnsecuredLines  104.513836  16544.639126\n",
              "DebtRatio                              95.788453  14212.893907\n",
              "NumberOfTime60-89DaysPastDueNotWorse   23.287570    543.612129\n",
              "NumberOfTimes90DaysLate                23.037155    535.491834\n",
              "NumberOfTime30-59DaysPastDueNotWorse   22.560050    520.586140\n",
              "NumberRealEstateLoansOrLines            3.635466     67.793802\n",
              "NumberOfDependents                      1.599150      3.168142\n",
              "NumberOfOpenCreditLinesAndLoans         1.214590      3.114686\n",
              "age                                     0.188338     -0.498984"
            ]
          },
          "metadata": {
            "tags": []
          },
          "execution_count": 36
        }
      ]
    },
    {
      "cell_type": "code",
      "metadata": {
        "id": "vEL6OLIEg2Yl"
      },
      "source": [
        "# outlier treatement\n",
        "\n",
        "# In the columns NumberOfTime30-59DaysPastDueNotWorse, NumberOfTime60-89DaysPastDueNotWorse and NumberOfTimes90DaysLate, we see delinquency range \n",
        "#beyond 90 which is common across all features\n",
        "\n",
        "# Treating outliers for the column -- NumberOfTime30-59DaysPastDueNotWorse, NumberOfTime60-89DaysPastDueNotWorse and NumberOfTimes90DaysLate"
      ],
      "execution_count": 37,
      "outputs": []
    },
    {
      "cell_type": "code",
      "metadata": {
        "colab": {
          "base_uri": "https://localhost:8080/"
        },
        "id": "2LTO9Bd9iBdW",
        "outputId": "62fe21dc-a7f5-4884-d343-cf64d5295f06"
      },
      "source": [
        "print(\"Unique values in '30-59 Days'  values that are more than or equal to 90:\",\n",
        "      np.unique(train[train['NumberOfTime30-59DaysPastDueNotWorse']>=90]\n",
        "              ['NumberOfTime30-59DaysPastDueNotWorse']  ))\n",
        "\n",
        "print(\"Unique values in '60-89 Days when '30-59 Days' values are more than or equal to 90:\",\n",
        "       np.unique(train[train['NumberOfTime30-59DaysPastDueNotWorse']>=90]\n",
        "                ['NumberOfTime60-89DaysPastDueNotWorse']))\n",
        "\n",
        "print(\"Unique values in '90 Days' when '30-59 Days' values are more than or equal to 90:\",\n",
        "       np.unique(train[train['NumberOfTime30-59DaysPastDueNotWorse']>=90]\n",
        "                ['NumberOfTimes90DaysLate']))\n",
        "\n",
        "print(\"Unique values in '30-59 Days'  values that are less than  90:\",\n",
        "      np.unique(train[train['NumberOfTime30-59DaysPastDueNotWorse']<90]\n",
        "                ['NumberOfTime30-59DaysPastDueNotWorse']))\n",
        "\n",
        "print(\"Unique values in '60-89 Days when '30-59 Days' values that are less than 90:\",\n",
        "       np.unique(train[train['NumberOfTime30-59DaysPastDueNotWorse']<90]\n",
        "                ['NumberOfTime60-89DaysPastDueNotWorse']))\n",
        "\n",
        "print(\"Unique values in '90 Days' when '30-59 Days' values that are less than 90:\",\n",
        "       np.unique(train[train['NumberOfTime30-59DaysPastDueNotWorse']<90]\n",
        "                ['NumberOfTimes90DaysLate']))\n",
        "\n",
        "print(\"Proportion of positive class with special 96/96 values:\",\n",
        "       round(train[train['NumberOfTime30-59DaysPastDueNotWorse']>=90]\n",
        "     ['SeriousDlqin2yrs'].sum()*100/\n",
        "     len(train[train['NumberOfTime30-59DaysPastDueNotWorse']>=90]['SeriousDlqin2yrs']),2,),'%')      \n",
        "\n"
      ],
      "execution_count": 38,
      "outputs": [
        {
          "output_type": "stream",
          "text": [
            "Unique values in '30-59 Days'  values that are more than or equal to 90: [96 98]\n",
            "Unique values in '60-89 Days when '30-59 Days' values are more than or equal to 90: [96 98]\n",
            "Unique values in '90 Days' when '30-59 Days' values are more than or equal to 90: [96 98]\n",
            "Unique values in '30-59 Days'  values that are less than  90: [ 0  1  2  3  4  5  6  7  8  9 10 11 12]\n",
            "Unique values in '60-89 Days when '30-59 Days' values that are less than 90: [ 0  1  2  3  4  5  6  7  8  9 11]\n",
            "Unique values in '90 Days' when '30-59 Days' values that are less than 90: [ 0  1  2  3  4  5  6  7  8  9 10 11 12 13 14 17]\n",
            "Proportion of positive class with special 96/96 values: 55.56 %\n"
          ],
          "name": "stdout"
        }
      ]
    },
    {
      "cell_type": "code",
      "metadata": {
        "id": "T6_INtEStnqY"
      },
      "source": [
        "# 96 AND 98 values can be viewed as accounting errors. Hence, we would replace them with the maximum value before 96 i.e.12, 11 and 17\n",
        "\n",
        "train.loc[train['NumberOfTime30-59DaysPastDueNotWorse']>=90, 'NumberOfTime30-59DaysPastDueNotWorse'] =12\n",
        "\n",
        "train.loc[train['NumberOfTime60-89DaysPastDueNotWorse']>=90, 'NumberOfTime60-89DaysPastDueNotWorse'] =11\n",
        "\n",
        "train.loc[train['NumberOfTimes90DaysLate']>=90, 'NumberOfTimes90DaysLate'] =17"
      ],
      "execution_count": 39,
      "outputs": []
    },
    {
      "cell_type": "code",
      "metadata": {
        "colab": {
          "base_uri": "https://localhost:8080/"
        },
        "id": "ci5ug5AVujMr",
        "outputId": "d3a5111c-f160-473a-c57a-a8e70d3fa949"
      },
      "source": [
        "print(\"Unique values in 30-59Days\", np.unique(train['NumberOfTime30-59DaysPastDueNotWorse']))\n",
        "print(\"Unique values in 60-89Days\", np.unique(train['NumberOfTime60-89DaysPastDueNotWorse']))\n",
        "print(\"Unique values in 90 Days\", np.unique(train['NumberOfTimes90DaysLate']))"
      ],
      "execution_count": 40,
      "outputs": [
        {
          "output_type": "stream",
          "text": [
            "Unique values in 30-59Days [ 0  1  2  3  4  5  6  7  8  9 10 11 12]\n",
            "Unique values in 60-89Days [ 0  1  2  3  4  5  6  7  8  9 11]\n",
            "Unique values in 90 Days [ 0  1  2  3  4  5  6  7  8  9 10 11 12 13 14 17]\n"
          ],
          "name": "stdout"
        }
      ]
    },
    {
      "cell_type": "code",
      "metadata": {
        "colab": {
          "base_uri": "https://localhost:8080/"
        },
        "id": "O_uE-fKJwea0",
        "outputId": "be9ca7a2-c8fa-4650-a02e-52a1c6616b63"
      },
      "source": [
        "# Lets repeat this process for test data set\n",
        "\n",
        "print(\"Unique values in '30-59 Days'  values that are more than or equal to 90:\",\n",
        "      np.unique(test[test['NumberOfTime30-59DaysPastDueNotWorse']>=90]\n",
        "              ['NumberOfTime30-59DaysPastDueNotWorse']  ))\n",
        "\n",
        "print(\"Unique values in '60-89 Days when '30-59 Days' values are more than or equal to 90:\",\n",
        "       np.unique(test[test['NumberOfTime30-59DaysPastDueNotWorse']>=90]\n",
        "                ['NumberOfTime60-89DaysPastDueNotWorse']))\n",
        "\n",
        "print(\"Unique values in '90 Days' when '30-59 Days' values are more than or equal to 90:\",\n",
        "       np.unique(test[test['NumberOfTime30-59DaysPastDueNotWorse']>=90]\n",
        "                ['NumberOfTimes90DaysLate']))\n",
        "\n",
        "print(\"Unique values in '30-59 Days'  values that are less than  90:\",\n",
        "      np.unique(test[test['NumberOfTime30-59DaysPastDueNotWorse']<90]\n",
        "                ['NumberOfTime30-59DaysPastDueNotWorse']))\n",
        "\n",
        "print(\"Unique values in '60-89 Days when '30-59 Days' values that are less than 90:\",\n",
        "       np.unique(test[test['NumberOfTime30-59DaysPastDueNotWorse']<90]\n",
        "                ['NumberOfTime60-89DaysPastDueNotWorse']))\n",
        "\n",
        "print(\"Unique values in '90 Days' when '30-59 Days' values that are less than 90:\",\n",
        "       np.unique(test[test['NumberOfTime30-59DaysPastDueNotWorse']<90]\n",
        "                ['NumberOfTimes90DaysLate']))\n",
        "\n",
        "print(\"Proportion of positive class with special 96/96 values:\",\n",
        "       round(test[test['NumberOfTime30-59DaysPastDueNotWorse']>=90]\n",
        "     ['SeriousDlqin2yrs'].sum()*100/\n",
        "     len(test[test['NumberOfTime30-59DaysPastDueNotWorse']>=90]['SeriousDlqin2yrs']),2,),'%')   "
      ],
      "execution_count": 41,
      "outputs": [
        {
          "output_type": "stream",
          "text": [
            "Unique values in '30-59 Days'  values that are more than or equal to 90: [98]\n",
            "Unique values in '60-89 Days when '30-59 Days' values are more than or equal to 90: [98]\n",
            "Unique values in '90 Days' when '30-59 Days' values are more than or equal to 90: [98]\n",
            "Unique values in '30-59 Days'  values that are less than  90: [ 0  1  2  3  4  5  6  7  8  9 10 12 13]\n",
            "Unique values in '60-89 Days when '30-59 Days' values that are less than 90: [0 1 2 3 4 5 6 7]\n",
            "Unique values in '90 Days' when '30-59 Days' values that are less than 90: [ 0  1  2  3  4  5  6  7  8  9 10 11 15]\n",
            "Proportion of positive class with special 96/96 values: 50.94 %\n"
          ],
          "name": "stdout"
        }
      ]
    },
    {
      "cell_type": "code",
      "metadata": {
        "colab": {
          "base_uri": "https://localhost:8080/"
        },
        "id": "7z-ls5RlwvLy",
        "outputId": "d80b8d6b-f4e0-4f5c-f571-0bdcaa3891a3"
      },
      "source": [
        "test.loc[test['NumberOfTime30-59DaysPastDueNotWorse'] >=90, 'NumberOfTime30-59DaysPastDueNotWorse'] =13\n",
        "test.loc[test['NumberOfTime60-89DaysPastDueNotWorse'] >=90, 'NumberOfTime60-89DaysPastDueNotWorse'] = 7\n",
        "test.loc[test['NumberOfTimes90DaysLate']>=90, 'NumberOfTimes90DaysLate'] = 15\n",
        "\n",
        "print(\"Unique values in 30-59Days\", np.unique(test['NumberOfTime30-59DaysPastDueNotWorse']))\n",
        "print(\"Unique values in 60-89Days\", np.unique(test['NumberOfTime60-89DaysPastDueNotWorse']))\n",
        "print(\"Unique values in 90 Days\", np.unique(test['NumberOfTimes90DaysLate']))"
      ],
      "execution_count": 42,
      "outputs": [
        {
          "output_type": "stream",
          "text": [
            "Unique values in 30-59Days [ 0  1  2  3  4  5  6  7  8  9 10 12 13]\n",
            "Unique values in 60-89Days [0 1 2 3 4 5 6 7]\n",
            "Unique values in 90 Days [ 0  1  2  3  4  5  6  7  8  9 10 11 15]\n"
          ],
          "name": "stdout"
        }
      ]
    },
    {
      "cell_type": "code",
      "metadata": {
        "colab": {
          "base_uri": "https://localhost:8080/"
        },
        "id": "Yj7RwQjIyT6h",
        "outputId": "a9fc8649-27ca-4ac0-8b5e-82e489d0ff0e"
      },
      "source": [
        "# Checking for DebtRatio and RevolvingUtilizationOfUnsecuredLines.\n",
        "\n",
        "print('Debt Ratio : \\n', train['DebtRatio'].describe())\n",
        "print('\\nRevolving Utilization of Unsecured Lines:\\n',\n",
        "      train['RevolvingUtilizationOfUnsecuredLines'].describe())"
      ],
      "execution_count": 43,
      "outputs": [
        {
          "output_type": "stream",
          "text": [
            "Debt Ratio : \n",
            " count    120000.000000\n",
            "mean        350.913763\n",
            "std        1985.649364\n",
            "min           0.000000\n",
            "25%           0.174335\n",
            "50%           0.365643\n",
            "75%           0.866853\n",
            "max      329664.000000\n",
            "Name: DebtRatio, dtype: float64\n",
            "\n",
            "Revolving Utilization of Unsecured Lines:\n",
            " count    120000.000000\n",
            "mean          5.986096\n",
            "std         251.444207\n",
            "min           0.000000\n",
            "25%           0.029737\n",
            "50%           0.154659\n",
            "75%           0.559328\n",
            "max       50708.000000\n",
            "Name: RevolvingUtilizationOfUnsecuredLines, dtype: float64\n"
          ],
          "name": "stdout"
        }
      ]
    },
    {
      "cell_type": "code",
      "metadata": {
        "id": "oj1utBKSyUDM"
      },
      "source": [
        "#This data is right skewed. So, our main aim would be to check the potential outliiers beyond 95% quantities. However, since our data is 120,000.\n",
        "#Let's consider 95% and 97.5% and 97.5% quantities for our further analysis."
      ],
      "execution_count": 44,
      "outputs": []
    },
    {
      "cell_type": "code",
      "metadata": {
        "colab": {
          "base_uri": "https://localhost:8080/",
          "height": 297
        },
        "id": "N3zrDFr-1B0p",
        "outputId": "0b98e4b3-c607-405c-df1a-3eddccd50d85"
      },
      "source": [
        "train[train['DebtRatio'] >= train['DebtRatio'].quantile(0.95)][['SeriousDlqin2yrs','MonthlyIncome']].describe()"
      ],
      "execution_count": 45,
      "outputs": [
        {
          "output_type": "execute_result",
          "data": {
            "text/html": [
              "<div>\n",
              "<style scoped>\n",
              "    .dataframe tbody tr th:only-of-type {\n",
              "        vertical-align: middle;\n",
              "    }\n",
              "\n",
              "    .dataframe tbody tr th {\n",
              "        vertical-align: top;\n",
              "    }\n",
              "\n",
              "    .dataframe thead th {\n",
              "        text-align: right;\n",
              "    }\n",
              "</style>\n",
              "<table border=\"1\" class=\"dataframe\">\n",
              "  <thead>\n",
              "    <tr style=\"text-align: right;\">\n",
              "      <th></th>\n",
              "      <th>SeriousDlqin2yrs</th>\n",
              "      <th>MonthlyIncome</th>\n",
              "    </tr>\n",
              "  </thead>\n",
              "  <tbody>\n",
              "    <tr>\n",
              "      <th>count</th>\n",
              "      <td>6002.000000</td>\n",
              "      <td>308.000000</td>\n",
              "    </tr>\n",
              "    <tr>\n",
              "      <th>mean</th>\n",
              "      <td>0.054315</td>\n",
              "      <td>0.077922</td>\n",
              "    </tr>\n",
              "    <tr>\n",
              "      <th>std</th>\n",
              "      <td>0.226658</td>\n",
              "      <td>0.268485</td>\n",
              "    </tr>\n",
              "    <tr>\n",
              "      <th>min</th>\n",
              "      <td>0.000000</td>\n",
              "      <td>0.000000</td>\n",
              "    </tr>\n",
              "    <tr>\n",
              "      <th>25%</th>\n",
              "      <td>0.000000</td>\n",
              "      <td>0.000000</td>\n",
              "    </tr>\n",
              "    <tr>\n",
              "      <th>50%</th>\n",
              "      <td>0.000000</td>\n",
              "      <td>0.000000</td>\n",
              "    </tr>\n",
              "    <tr>\n",
              "      <th>75%</th>\n",
              "      <td>0.000000</td>\n",
              "      <td>0.000000</td>\n",
              "    </tr>\n",
              "    <tr>\n",
              "      <th>max</th>\n",
              "      <td>1.000000</td>\n",
              "      <td>1.000000</td>\n",
              "    </tr>\n",
              "  </tbody>\n",
              "</table>\n",
              "</div>"
            ],
            "text/plain": [
              "       SeriousDlqin2yrs  MonthlyIncome\n",
              "count       6002.000000     308.000000\n",
              "mean           0.054315       0.077922\n",
              "std            0.226658       0.268485\n",
              "min            0.000000       0.000000\n",
              "25%            0.000000       0.000000\n",
              "50%            0.000000       0.000000\n",
              "75%            0.000000       0.000000\n",
              "max            1.000000       1.000000"
            ]
          },
          "metadata": {
            "tags": []
          },
          "execution_count": 45
        }
      ]
    },
    {
      "cell_type": "markdown",
      "metadata": {
        "id": "i4JNUN35xd0x"
      },
      "source": [
        "Observations\n",
        "\n",
        "Out of  6002 customers falling in last 5 percentil of data the number of times their debt is highter than their income, only 308 have monthly income values\n",
        "\n",
        "The max of monthly income is 1 and min is 0 which makes us wonder that are data entry errors. Let's check whether the Serious Delinquency in 2 years and Monthly Income values are equal"
      ]
    },
    {
      "cell_type": "code",
      "metadata": {
        "colab": {
          "base_uri": "https://localhost:8080/"
        },
        "id": "wVi4lLJlIjj0",
        "outputId": "ed5e05c3-6ecd-4cd5-f933-90a3a918d454"
      },
      "source": [
        "train[(train[\"DebtRatio\"] > train[\"DebtRatio\"].quantile(0.95)) & (train['SeriousDlqin2yrs'] == train['MonthlyIncome'])].shape[0]"
      ],
      "execution_count": 46,
      "outputs": [
        {
          "output_type": "execute_result",
          "data": {
            "text/plain": [
              "271"
            ]
          },
          "metadata": {
            "tags": []
          },
          "execution_count": 46
        }
      ]
    },
    {
      "cell_type": "code",
      "metadata": {
        "id": "W65x5bkeKSyM"
      },
      "source": [
        "# Hence, our suspects are true and there are 271 out of 308 rows where Monthly Income is qual to Serious Deliquencies in 2 years. \n",
        "#Hence we will remove these 271 outliers from our analysis as their current values aren't useful for our predictve modeling and\n",
        "#will add to the bias and variance"
      ],
      "execution_count": 47,
      "outputs": []
    },
    {
      "cell_type": "code",
      "metadata": {
        "colab": {
          "base_uri": "https://localhost:8080/"
        },
        "id": "JUdXJUGAKmP4",
        "outputId": "16d526c8-3624-4971-b5d0-0fd8554dbe9e"
      },
      "source": [
        "new_train = train[-((train[\"DebtRatio\"] > train[\"DebtRatio\"].quantile(0.95)) & (train['SeriousDlqin2yrs'] == train['MonthlyIncome']))]\n",
        "new_train.shape"
      ],
      "execution_count": 48,
      "outputs": [
        {
          "output_type": "execute_result",
          "data": {
            "text/plain": [
              "(119729, 12)"
            ]
          },
          "metadata": {
            "tags": []
          },
          "execution_count": 48
        }
      ]
    },
    {
      "cell_type": "code",
      "metadata": {
        "id": "-_BXi-2SO6lH"
      },
      "source": [
        "# Revolving Utilization of Unsecured Lines\n",
        "#This field basically represents the ratio of the amount owed by the credit limit of a customer.\n",
        "#A ratio highter than 1 is considered to be a serious defaulter.\n",
        "#A Ratio of 10 functionality also seems possible, let's see how many of these customers have the\n",
        "#Revolving Utilization of Unsecured lines greater than 0"
      ],
      "execution_count": 49,
      "outputs": []
    },
    {
      "cell_type": "code",
      "metadata": {
        "colab": {
          "base_uri": "https://localhost:8080/",
          "height": 334
        },
        "id": "td9lVE-pi2Wy",
        "outputId": "591a9a5f-e6b0-4495-e6a3-87cd17f8907b"
      },
      "source": [
        "new_train[new_train['RevolvingUtilizationOfUnsecuredLines']>10].describe()"
      ],
      "execution_count": 50,
      "outputs": [
        {
          "output_type": "execute_result",
          "data": {
            "text/html": [
              "<div>\n",
              "<style scoped>\n",
              "    .dataframe tbody tr th:only-of-type {\n",
              "        vertical-align: middle;\n",
              "    }\n",
              "\n",
              "    .dataframe tbody tr th {\n",
              "        vertical-align: top;\n",
              "    }\n",
              "\n",
              "    .dataframe thead th {\n",
              "        text-align: right;\n",
              "    }\n",
              "</style>\n",
              "<table border=\"1\" class=\"dataframe\">\n",
              "  <thead>\n",
              "    <tr style=\"text-align: right;\">\n",
              "      <th></th>\n",
              "      <th>CustomerID</th>\n",
              "      <th>RevolvingUtilizationOfUnsecuredLines</th>\n",
              "      <th>age</th>\n",
              "      <th>NumberOfTime30-59DaysPastDueNotWorse</th>\n",
              "      <th>DebtRatio</th>\n",
              "      <th>MonthlyIncome</th>\n",
              "      <th>NumberOfOpenCreditLinesAndLoans</th>\n",
              "      <th>NumberOfTimes90DaysLate</th>\n",
              "      <th>NumberRealEstateLoansOrLines</th>\n",
              "      <th>NumberOfTime60-89DaysPastDueNotWorse</th>\n",
              "      <th>NumberOfDependents</th>\n",
              "      <th>SeriousDlqin2yrs</th>\n",
              "    </tr>\n",
              "  </thead>\n",
              "  <tbody>\n",
              "    <tr>\n",
              "      <th>count</th>\n",
              "      <td>187.000000</td>\n",
              "      <td>187.000000</td>\n",
              "      <td>187.000000</td>\n",
              "      <td>187.000000</td>\n",
              "      <td>187.000000</td>\n",
              "      <td>133.000000</td>\n",
              "      <td>187.000000</td>\n",
              "      <td>187.000000</td>\n",
              "      <td>187.000000</td>\n",
              "      <td>187.000000</td>\n",
              "      <td>179.000000</td>\n",
              "      <td>187.000000</td>\n",
              "    </tr>\n",
              "    <tr>\n",
              "      <th>mean</th>\n",
              "      <td>78422.989305</td>\n",
              "      <td>3634.411136</td>\n",
              "      <td>50.989305</td>\n",
              "      <td>0.176471</td>\n",
              "      <td>522.932048</td>\n",
              "      <td>9020.067669</td>\n",
              "      <td>5.614973</td>\n",
              "      <td>0.080214</td>\n",
              "      <td>1.208556</td>\n",
              "      <td>0.080214</td>\n",
              "      <td>0.687151</td>\n",
              "      <td>0.048128</td>\n",
              "    </tr>\n",
              "    <tr>\n",
              "      <th>std</th>\n",
              "      <td>40921.820372</td>\n",
              "      <td>5247.138619</td>\n",
              "      <td>14.651136</td>\n",
              "      <td>0.544654</td>\n",
              "      <td>1205.632700</td>\n",
              "      <td>7156.622316</td>\n",
              "      <td>3.100709</td>\n",
              "      <td>0.646732</td>\n",
              "      <td>1.094626</td>\n",
              "      <td>0.603737</td>\n",
              "      <td>1.045269</td>\n",
              "      <td>0.214612</td>\n",
              "    </tr>\n",
              "    <tr>\n",
              "      <th>min</th>\n",
              "      <td>294.000000</td>\n",
              "      <td>14.000000</td>\n",
              "      <td>24.000000</td>\n",
              "      <td>0.000000</td>\n",
              "      <td>0.000800</td>\n",
              "      <td>0.000000</td>\n",
              "      <td>1.000000</td>\n",
              "      <td>0.000000</td>\n",
              "      <td>0.000000</td>\n",
              "      <td>0.000000</td>\n",
              "      <td>0.000000</td>\n",
              "      <td>0.000000</td>\n",
              "    </tr>\n",
              "    <tr>\n",
              "      <th>25%</th>\n",
              "      <td>44759.500000</td>\n",
              "      <td>953.000000</td>\n",
              "      <td>39.000000</td>\n",
              "      <td>0.000000</td>\n",
              "      <td>0.217823</td>\n",
              "      <td>5000.000000</td>\n",
              "      <td>4.000000</td>\n",
              "      <td>0.000000</td>\n",
              "      <td>1.000000</td>\n",
              "      <td>0.000000</td>\n",
              "      <td>0.000000</td>\n",
              "      <td>0.000000</td>\n",
              "    </tr>\n",
              "    <tr>\n",
              "      <th>50%</th>\n",
              "      <td>80200.000000</td>\n",
              "      <td>2120.000000</td>\n",
              "      <td>49.000000</td>\n",
              "      <td>0.000000</td>\n",
              "      <td>0.381491</td>\n",
              "      <td>7083.000000</td>\n",
              "      <td>5.000000</td>\n",
              "      <td>0.000000</td>\n",
              "      <td>1.000000</td>\n",
              "      <td>0.000000</td>\n",
              "      <td>0.000000</td>\n",
              "      <td>0.000000</td>\n",
              "    </tr>\n",
              "    <tr>\n",
              "      <th>75%</th>\n",
              "      <td>113817.000000</td>\n",
              "      <td>4240.000000</td>\n",
              "      <td>63.000000</td>\n",
              "      <td>0.000000</td>\n",
              "      <td>90.000000</td>\n",
              "      <td>10575.000000</td>\n",
              "      <td>7.000000</td>\n",
              "      <td>0.000000</td>\n",
              "      <td>2.000000</td>\n",
              "      <td>0.000000</td>\n",
              "      <td>1.000000</td>\n",
              "      <td>0.000000</td>\n",
              "    </tr>\n",
              "    <tr>\n",
              "      <th>max</th>\n",
              "      <td>149161.000000</td>\n",
              "      <td>50708.000000</td>\n",
              "      <td>87.000000</td>\n",
              "      <td>3.000000</td>\n",
              "      <td>6820.000000</td>\n",
              "      <td>44472.000000</td>\n",
              "      <td>21.000000</td>\n",
              "      <td>8.000000</td>\n",
              "      <td>9.000000</td>\n",
              "      <td>7.000000</td>\n",
              "      <td>4.000000</td>\n",
              "      <td>1.000000</td>\n",
              "    </tr>\n",
              "  </tbody>\n",
              "</table>\n",
              "</div>"
            ],
            "text/plain": [
              "          CustomerID  RevolvingUtilizationOfUnsecuredLines         age  \\\n",
              "count     187.000000                            187.000000  187.000000   \n",
              "mean    78422.989305                           3634.411136   50.989305   \n",
              "std     40921.820372                           5247.138619   14.651136   \n",
              "min       294.000000                             14.000000   24.000000   \n",
              "25%     44759.500000                            953.000000   39.000000   \n",
              "50%     80200.000000                           2120.000000   49.000000   \n",
              "75%    113817.000000                           4240.000000   63.000000   \n",
              "max    149161.000000                          50708.000000   87.000000   \n",
              "\n",
              "       NumberOfTime30-59DaysPastDueNotWorse    DebtRatio  MonthlyIncome  \\\n",
              "count                            187.000000   187.000000     133.000000   \n",
              "mean                               0.176471   522.932048    9020.067669   \n",
              "std                                0.544654  1205.632700    7156.622316   \n",
              "min                                0.000000     0.000800       0.000000   \n",
              "25%                                0.000000     0.217823    5000.000000   \n",
              "50%                                0.000000     0.381491    7083.000000   \n",
              "75%                                0.000000    90.000000   10575.000000   \n",
              "max                                3.000000  6820.000000   44472.000000   \n",
              "\n",
              "       NumberOfOpenCreditLinesAndLoans  NumberOfTimes90DaysLate  \\\n",
              "count                       187.000000               187.000000   \n",
              "mean                          5.614973                 0.080214   \n",
              "std                           3.100709                 0.646732   \n",
              "min                           1.000000                 0.000000   \n",
              "25%                           4.000000                 0.000000   \n",
              "50%                           5.000000                 0.000000   \n",
              "75%                           7.000000                 0.000000   \n",
              "max                          21.000000                 8.000000   \n",
              "\n",
              "       NumberRealEstateLoansOrLines  NumberOfTime60-89DaysPastDueNotWorse  \\\n",
              "count                    187.000000                            187.000000   \n",
              "mean                       1.208556                              0.080214   \n",
              "std                        1.094626                              0.603737   \n",
              "min                        0.000000                              0.000000   \n",
              "25%                        1.000000                              0.000000   \n",
              "50%                        1.000000                              0.000000   \n",
              "75%                        2.000000                              0.000000   \n",
              "max                        9.000000                              7.000000   \n",
              "\n",
              "       NumberOfDependents  SeriousDlqin2yrs  \n",
              "count          179.000000        187.000000  \n",
              "mean             0.687151          0.048128  \n",
              "std              1.045269          0.214612  \n",
              "min              0.000000          0.000000  \n",
              "25%              0.000000          0.000000  \n",
              "50%              0.000000          0.000000  \n",
              "75%              1.000000          0.000000  \n",
              "max              4.000000          1.000000  "
            ]
          },
          "metadata": {
            "tags": []
          },
          "execution_count": 50
        }
      ]
    },
    {
      "cell_type": "code",
      "metadata": {
        "colab": {
          "base_uri": "https://localhost:8080/"
        },
        "id": "9XRzSdlljV3g",
        "outputId": "c5029cc2-31ae-4edb-bf83-b012edde8b74"
      },
      "source": [
        "new_train = new_train[new_train['RevolvingUtilizationOfUnsecuredLines']<=10]\n",
        "new_train.shape"
      ],
      "execution_count": 51,
      "outputs": [
        {
          "output_type": "execute_result",
          "data": {
            "text/plain": [
              "(119542, 12)"
            ]
          },
          "metadata": {
            "tags": []
          },
          "execution_count": 51
        }
      ]
    },
    {
      "cell_type": "code",
      "metadata": {
        "colab": {
          "base_uri": "https://localhost:8080/"
        },
        "id": "pJPvma2ClCmT",
        "outputId": "f2feffe1-4085-4053-9fbf-408311d8f77f"
      },
      "source": [
        "new_test = test[test['RevolvingUtilizationOfUnsecuredLines']<=10]\n",
        "new_test.shape"
      ],
      "execution_count": 52,
      "outputs": [
        {
          "output_type": "execute_result",
          "data": {
            "text/plain": [
              "(29946, 12)"
            ]
          },
          "metadata": {
            "tags": []
          },
          "execution_count": 52
        }
      ]
    },
    {
      "cell_type": "code",
      "metadata": {
        "colab": {
          "base_uri": "https://localhost:8080/",
          "height": 297
        },
        "id": "F5uAQvJllXzJ",
        "outputId": "56d5ba00-477f-408b-b218-cecef39b2481"
      },
      "source": [
        "new_train[['age','SeriousDlqin2yrs']].describe()"
      ],
      "execution_count": 53,
      "outputs": [
        {
          "output_type": "execute_result",
          "data": {
            "text/html": [
              "<div>\n",
              "<style scoped>\n",
              "    .dataframe tbody tr th:only-of-type {\n",
              "        vertical-align: middle;\n",
              "    }\n",
              "\n",
              "    .dataframe tbody tr th {\n",
              "        vertical-align: top;\n",
              "    }\n",
              "\n",
              "    .dataframe thead th {\n",
              "        text-align: right;\n",
              "    }\n",
              "</style>\n",
              "<table border=\"1\" class=\"dataframe\">\n",
              "  <thead>\n",
              "    <tr style=\"text-align: right;\">\n",
              "      <th></th>\n",
              "      <th>age</th>\n",
              "      <th>SeriousDlqin2yrs</th>\n",
              "    </tr>\n",
              "  </thead>\n",
              "  <tbody>\n",
              "    <tr>\n",
              "      <th>count</th>\n",
              "      <td>119542.000000</td>\n",
              "      <td>119542.000000</td>\n",
              "    </tr>\n",
              "    <tr>\n",
              "      <th>mean</th>\n",
              "      <td>52.296130</td>\n",
              "      <td>0.067006</td>\n",
              "    </tr>\n",
              "    <tr>\n",
              "      <th>std</th>\n",
              "      <td>14.775558</td>\n",
              "      <td>0.250033</td>\n",
              "    </tr>\n",
              "    <tr>\n",
              "      <th>min</th>\n",
              "      <td>0.000000</td>\n",
              "      <td>0.000000</td>\n",
              "    </tr>\n",
              "    <tr>\n",
              "      <th>25%</th>\n",
              "      <td>41.000000</td>\n",
              "      <td>0.000000</td>\n",
              "    </tr>\n",
              "    <tr>\n",
              "      <th>50%</th>\n",
              "      <td>52.000000</td>\n",
              "      <td>0.000000</td>\n",
              "    </tr>\n",
              "    <tr>\n",
              "      <th>75%</th>\n",
              "      <td>63.000000</td>\n",
              "      <td>0.000000</td>\n",
              "    </tr>\n",
              "    <tr>\n",
              "      <th>max</th>\n",
              "      <td>109.000000</td>\n",
              "      <td>1.000000</td>\n",
              "    </tr>\n",
              "  </tbody>\n",
              "</table>\n",
              "</div>"
            ],
            "text/plain": [
              "                 age  SeriousDlqin2yrs\n",
              "count  119542.000000     119542.000000\n",
              "mean       52.296130          0.067006\n",
              "std        14.775558          0.250033\n",
              "min         0.000000          0.000000\n",
              "25%        41.000000          0.000000\n",
              "50%        52.000000          0.000000\n",
              "75%        63.000000          0.000000\n",
              "max       109.000000          1.000000"
            ]
          },
          "metadata": {
            "tags": []
          },
          "execution_count": 53
        }
      ]
    },
    {
      "cell_type": "code",
      "metadata": {
        "id": "fr6T4wKLler-"
      },
      "source": [
        "#It can be observed that the data includes a record with age= 0 which is not a valid age, updating the recod with mode age."
      ],
      "execution_count": 54,
      "outputs": []
    },
    {
      "cell_type": "code",
      "metadata": {
        "colab": {
          "base_uri": "https://localhost:8080/",
          "height": 117
        },
        "id": "AigyKnb8lzhV",
        "outputId": "522d34e7-bf34-47b2-ed9c-fdcf7749e826"
      },
      "source": [
        "new_train[new_train['age']<1]"
      ],
      "execution_count": 55,
      "outputs": [
        {
          "output_type": "execute_result",
          "data": {
            "text/html": [
              "<div>\n",
              "<style scoped>\n",
              "    .dataframe tbody tr th:only-of-type {\n",
              "        vertical-align: middle;\n",
              "    }\n",
              "\n",
              "    .dataframe tbody tr th {\n",
              "        vertical-align: top;\n",
              "    }\n",
              "\n",
              "    .dataframe thead th {\n",
              "        text-align: right;\n",
              "    }\n",
              "</style>\n",
              "<table border=\"1\" class=\"dataframe\">\n",
              "  <thead>\n",
              "    <tr style=\"text-align: right;\">\n",
              "      <th></th>\n",
              "      <th>CustomerID</th>\n",
              "      <th>RevolvingUtilizationOfUnsecuredLines</th>\n",
              "      <th>age</th>\n",
              "      <th>NumberOfTime30-59DaysPastDueNotWorse</th>\n",
              "      <th>DebtRatio</th>\n",
              "      <th>MonthlyIncome</th>\n",
              "      <th>NumberOfOpenCreditLinesAndLoans</th>\n",
              "      <th>NumberOfTimes90DaysLate</th>\n",
              "      <th>NumberRealEstateLoansOrLines</th>\n",
              "      <th>NumberOfTime60-89DaysPastDueNotWorse</th>\n",
              "      <th>NumberOfDependents</th>\n",
              "      <th>SeriousDlqin2yrs</th>\n",
              "    </tr>\n",
              "  </thead>\n",
              "  <tbody>\n",
              "    <tr>\n",
              "      <th>65695</th>\n",
              "      <td>65696</td>\n",
              "      <td>1.0</td>\n",
              "      <td>0</td>\n",
              "      <td>1</td>\n",
              "      <td>0.436927</td>\n",
              "      <td>6000.0</td>\n",
              "      <td>6</td>\n",
              "      <td>0</td>\n",
              "      <td>2</td>\n",
              "      <td>0</td>\n",
              "      <td>2.0</td>\n",
              "      <td>0</td>\n",
              "    </tr>\n",
              "  </tbody>\n",
              "</table>\n",
              "</div>"
            ],
            "text/plain": [
              "       CustomerID  RevolvingUtilizationOfUnsecuredLines  age  \\\n",
              "65695       65696                                   1.0    0   \n",
              "\n",
              "       NumberOfTime30-59DaysPastDueNotWorse  DebtRatio  MonthlyIncome  \\\n",
              "65695                                     1   0.436927         6000.0   \n",
              "\n",
              "       NumberOfOpenCreditLinesAndLoans  NumberOfTimes90DaysLate  \\\n",
              "65695                                6                        0   \n",
              "\n",
              "       NumberRealEstateLoansOrLines  NumberOfTime60-89DaysPastDueNotWorse  \\\n",
              "65695                             2                                     0   \n",
              "\n",
              "       NumberOfDependents  SeriousDlqin2yrs  \n",
              "65695                 2.0                 0  "
            ]
          },
          "metadata": {
            "tags": []
          },
          "execution_count": 55
        }
      ]
    },
    {
      "cell_type": "code",
      "metadata": {
        "id": "ImmpTcmml77k"
      },
      "source": [
        "new_train.loc[new_train['age'] == 0, 'age'] = new_train.age.mode()[0]"
      ],
      "execution_count": 56,
      "outputs": []
    },
    {
      "cell_type": "code",
      "metadata": {
        "colab": {
          "base_uri": "https://localhost:8080/"
        },
        "id": "CXXTwRDRmRco",
        "outputId": "9d12ea94-7365-4faa-9b6d-67f57b4ef431"
      },
      "source": [
        "new_train['age'].min()"
      ],
      "execution_count": 57,
      "outputs": [
        {
          "output_type": "execute_result",
          "data": {
            "text/plain": [
              "21"
            ]
          },
          "metadata": {
            "tags": []
          },
          "execution_count": 57
        }
      ]
    },
    {
      "cell_type": "code",
      "metadata": {
        "colab": {
          "base_uri": "https://localhost:8080/",
          "height": 86
        },
        "id": "n2BP_H2FmWFE",
        "outputId": "7525d384-324f-40db-f640-04ced02a3723"
      },
      "source": [
        "new_test[new_test['age']<1]\n",
        "\n",
        "#so there is no age less than 1 in testing data set"
      ],
      "execution_count": 58,
      "outputs": [
        {
          "output_type": "execute_result",
          "data": {
            "text/html": [
              "<div>\n",
              "<style scoped>\n",
              "    .dataframe tbody tr th:only-of-type {\n",
              "        vertical-align: middle;\n",
              "    }\n",
              "\n",
              "    .dataframe tbody tr th {\n",
              "        vertical-align: top;\n",
              "    }\n",
              "\n",
              "    .dataframe thead th {\n",
              "        text-align: right;\n",
              "    }\n",
              "</style>\n",
              "<table border=\"1\" class=\"dataframe\">\n",
              "  <thead>\n",
              "    <tr style=\"text-align: right;\">\n",
              "      <th></th>\n",
              "      <th>CustomerID</th>\n",
              "      <th>RevolvingUtilizationOfUnsecuredLines</th>\n",
              "      <th>age</th>\n",
              "      <th>NumberOfTime30-59DaysPastDueNotWorse</th>\n",
              "      <th>DebtRatio</th>\n",
              "      <th>MonthlyIncome</th>\n",
              "      <th>NumberOfOpenCreditLinesAndLoans</th>\n",
              "      <th>NumberOfTimes90DaysLate</th>\n",
              "      <th>NumberRealEstateLoansOrLines</th>\n",
              "      <th>NumberOfTime60-89DaysPastDueNotWorse</th>\n",
              "      <th>NumberOfDependents</th>\n",
              "      <th>SeriousDlqin2yrs</th>\n",
              "    </tr>\n",
              "  </thead>\n",
              "  <tbody>\n",
              "  </tbody>\n",
              "</table>\n",
              "</div>"
            ],
            "text/plain": [
              "Empty DataFrame\n",
              "Columns: [CustomerID, RevolvingUtilizationOfUnsecuredLines, age, NumberOfTime30-59DaysPastDueNotWorse, DebtRatio, MonthlyIncome, NumberOfOpenCreditLinesAndLoans, NumberOfTimes90DaysLate, NumberRealEstateLoansOrLines, NumberOfTime60-89DaysPastDueNotWorse, NumberOfDependents, SeriousDlqin2yrs]\n",
              "Index: []"
            ]
          },
          "metadata": {
            "tags": []
          },
          "execution_count": 58
        }
      ]
    },
    {
      "cell_type": "code",
      "metadata": {
        "id": "fWzBJ3stmkKl"
      },
      "source": [
        "# Monthly income is integer value, Replace with nulls with the median values instead of mean as it was heavily right skewed\n",
        "# Number of Dependents can be characterized as a categorical variable, hence if customers have NA for number of dependents,\n",
        "# it means that they dont have any depndents. Filling either by mode which is 0 or by the above assumption is the same. Therefore\n",
        "# fill them with zeros"
      ],
      "execution_count": 59,
      "outputs": []
    },
    {
      "cell_type": "code",
      "metadata": {
        "colab": {
          "base_uri": "https://localhost:8080/",
          "height": 111
        },
        "id": "6TplLzykmkT7",
        "outputId": "117e1472-76d1-4d80-c037-3ba4957595cf"
      },
      "source": [
        "def MissingHanlder(df):\n",
        "  DataMissing = df.isnull().sum()*100/len(df)\n",
        "  DataMissingByColumn = pd.DataFrame({'Percentage Nulls': DataMissing})\n",
        "  DataMissingByColumn.sort_values(by='Percentage Nulls', ascending=False,inplace=True)\n",
        "  return DataMissingByColumn[DataMissingByColumn['Percentage Nulls']>0]\n",
        "\n",
        "MissingHanlder(new_train)  "
      ],
      "execution_count": 60,
      "outputs": [
        {
          "output_type": "execute_result",
          "data": {
            "text/html": [
              "<div>\n",
              "<style scoped>\n",
              "    .dataframe tbody tr th:only-of-type {\n",
              "        vertical-align: middle;\n",
              "    }\n",
              "\n",
              "    .dataframe tbody tr th {\n",
              "        vertical-align: top;\n",
              "    }\n",
              "\n",
              "    .dataframe thead th {\n",
              "        text-align: right;\n",
              "    }\n",
              "</style>\n",
              "<table border=\"1\" class=\"dataframe\">\n",
              "  <thead>\n",
              "    <tr style=\"text-align: right;\">\n",
              "      <th></th>\n",
              "      <th>Percentage Nulls</th>\n",
              "    </tr>\n",
              "  </thead>\n",
              "  <tbody>\n",
              "    <tr>\n",
              "      <th>MonthlyIncome</th>\n",
              "      <td>19.820649</td>\n",
              "    </tr>\n",
              "    <tr>\n",
              "      <th>NumberOfDependents</th>\n",
              "      <td>2.612471</td>\n",
              "    </tr>\n",
              "  </tbody>\n",
              "</table>\n",
              "</div>"
            ],
            "text/plain": [
              "                    Percentage Nulls\n",
              "MonthlyIncome              19.820649\n",
              "NumberOfDependents          2.612471"
            ]
          },
          "metadata": {
            "tags": []
          },
          "execution_count": 60
        }
      ]
    },
    {
      "cell_type": "code",
      "metadata": {
        "id": "TsVu3v9qrXzY"
      },
      "source": [
        "new_train['MonthlyIncome'].fillna(new_train['MonthlyIncome'].median(), inplace= True)\n",
        "new_train['NumberOfDependents'].fillna(0,inplace=True)\n",
        "\n",
        "new_test['MonthlyIncome'].fillna(new_train['MonthlyIncome'].median(), inplace= True)\n",
        "new_test['NumberOfDependents'].fillna(0,inplace=True)"
      ],
      "execution_count": 61,
      "outputs": []
    },
    {
      "cell_type": "code",
      "metadata": {
        "colab": {
          "base_uri": "https://localhost:8080/",
          "height": 49
        },
        "id": "SQQezCnbrmfI",
        "outputId": "5aa6cd6f-b6f4-4b6d-db1d-7378c0cec366"
      },
      "source": [
        "#Rechecking Nulls\n",
        "\n",
        "MissingHanlder(new_test)"
      ],
      "execution_count": 62,
      "outputs": [
        {
          "output_type": "execute_result",
          "data": {
            "text/html": [
              "<div>\n",
              "<style scoped>\n",
              "    .dataframe tbody tr th:only-of-type {\n",
              "        vertical-align: middle;\n",
              "    }\n",
              "\n",
              "    .dataframe tbody tr th {\n",
              "        vertical-align: top;\n",
              "    }\n",
              "\n",
              "    .dataframe thead th {\n",
              "        text-align: right;\n",
              "    }\n",
              "</style>\n",
              "<table border=\"1\" class=\"dataframe\">\n",
              "  <thead>\n",
              "    <tr style=\"text-align: right;\">\n",
              "      <th></th>\n",
              "      <th>Percentage Nulls</th>\n",
              "    </tr>\n",
              "  </thead>\n",
              "  <tbody>\n",
              "  </tbody>\n",
              "</table>\n",
              "</div>"
            ],
            "text/plain": [
              "Empty DataFrame\n",
              "Columns: [Percentage Nulls]\n",
              "Index: []"
            ]
          },
          "metadata": {
            "tags": []
          },
          "execution_count": 62
        }
      ]
    },
    {
      "cell_type": "code",
      "metadata": {
        "colab": {
          "base_uri": "https://localhost:8080/",
          "height": 49
        },
        "id": "AauCmfEuoT-g",
        "outputId": "593d1410-b918-4a55-febf-61e6970b7b79"
      },
      "source": [
        "MissingHanlder(new_train)"
      ],
      "execution_count": 63,
      "outputs": [
        {
          "output_type": "execute_result",
          "data": {
            "text/html": [
              "<div>\n",
              "<style scoped>\n",
              "    .dataframe tbody tr th:only-of-type {\n",
              "        vertical-align: middle;\n",
              "    }\n",
              "\n",
              "    .dataframe tbody tr th {\n",
              "        vertical-align: top;\n",
              "    }\n",
              "\n",
              "    .dataframe thead th {\n",
              "        text-align: right;\n",
              "    }\n",
              "</style>\n",
              "<table border=\"1\" class=\"dataframe\">\n",
              "  <thead>\n",
              "    <tr style=\"text-align: right;\">\n",
              "      <th></th>\n",
              "      <th>Percentage Nulls</th>\n",
              "    </tr>\n",
              "  </thead>\n",
              "  <tbody>\n",
              "  </tbody>\n",
              "</table>\n",
              "</div>"
            ],
            "text/plain": [
              "Empty DataFrame\n",
              "Columns: [Percentage Nulls]\n",
              "Index: []"
            ]
          },
          "metadata": {
            "tags": []
          },
          "execution_count": 63
        }
      ]
    },
    {
      "cell_type": "code",
      "metadata": {
        "colab": {
          "base_uri": "https://localhost:8080/",
          "height": 587
        },
        "id": "VK31pUXZokZ3",
        "outputId": "50685aac-e26d-4fef-fe79-2090a718fec9"
      },
      "source": [
        "#Correlation Plot\n",
        "plt.figure(figsize=(10,6))\n",
        "sns.heatmap(new_train.corr(), annot=True, cmap=plt.cm.CMRmap_r)\n",
        "plt.show()"
      ],
      "execution_count": 64,
      "outputs": [
        {
          "output_type": "display_data",
          "data": {
            "image/png": "[encoded data removed]",
            "text/plain": [
              "<Figure size 720x432 with 2 Axes>"
            ]
          },
          "metadata": {
            "tags": [],
            "needs_background": "light"
          }
        }
      ]
    },
    {
      "cell_type": "code",
      "metadata": {
        "id": "pGXVDVaApQpk"
      },
      "source": [
        "# BiVariate Analysis\n",
        "\n",
        "def boxplot_violinplot(col1,col2):\n",
        "  fig,[ax1,ax2] = plt.subplots(1,2,figsize=(12,5))\n",
        "  sns.boxplot(x=col1, y=col2, data=new_train, palette='Set3', ax=ax1)\n",
        "  sns.violinplot(x=col1, y=col2, data=new_train, palette='Set3',ax=ax2)\n",
        "  plt.show()"
      ],
      "execution_count": 65,
      "outputs": []
    },
    {
      "cell_type": "code",
      "metadata": {
        "colab": {
          "base_uri": "https://localhost:8080/",
          "height": 334
        },
        "id": "nnzHW-6zrYrT",
        "outputId": "4ace84eb-43f5-4fcb-8a67-2cc9782be8b7"
      },
      "source": [
        "boxplot_violinplot('SeriousDlqin2yrs','age')"
      ],
      "execution_count": 66,
      "outputs": [
        {
          "output_type": "display_data",
          "data": {
            "image/png": "[encoded data removed]",
            "text/plain": [
              "<Figure size 864x360 with 2 Axes>"
            ]
          },
          "metadata": {
            "tags": [],
            "needs_background": "light"
          }
        }
      ]
    },
    {
      "cell_type": "code",
      "metadata": {
        "colab": {
          "base_uri": "https://localhost:8080/",
          "height": 345
        },
        "id": "GUq5fdMWsTXN",
        "outputId": "45925eed-cc02-4583-ef2e-5005a2f139bd"
      },
      "source": [
        "boxplot_violinplot('SeriousDlqin2yrs', 'MonthlyIncome')"
      ],
      "execution_count": 67,
      "outputs": [
        {
          "output_type": "display_data",
          "data": {
            "image/png": "[encoded data removed]",
            "text/plain": [
              "<Figure size 864x360 with 2 Axes>"
            ]
          },
          "metadata": {
            "tags": [],
            "needs_background": "light"
          }
        }
      ]
    },
    {
      "cell_type": "code",
      "metadata": {
        "colab": {
          "base_uri": "https://localhost:8080/",
          "height": 334
        },
        "id": "LX71OMXvs_eQ",
        "outputId": "48825286-ed2b-4bf4-b560-393cda20634b"
      },
      "source": [
        "boxplot_violinplot('SeriousDlqin2yrs', 'DebtRatio')"
      ],
      "execution_count": 68,
      "outputs": [
        {
          "output_type": "display_data",
          "data": {
            "image/png": "[encoded data removed]",
            "text/plain": [
              "<Figure size 864x360 with 2 Axes>"
            ]
          },
          "metadata": {
            "tags": [],
            "needs_background": "light"
          }
        }
      ]
    },
    {
      "cell_type": "code",
      "metadata": {
        "colab": {
          "base_uri": "https://localhost:8080/",
          "height": 334
        },
        "id": "3Egit8TxtGJu",
        "outputId": "3c13b080-f2ca-45c8-e371-4cb340d2c677"
      },
      "source": [
        "boxplot_violinplot('SeriousDlqin2yrs', 'NumberOfOpenCreditLinesAndLoans')"
      ],
      "execution_count": 69,
      "outputs": [
        {
          "output_type": "display_data",
          "data": {
            "image/png": "[encoded data removed]",
            "text/plain": [
              "<Figure size 864x360 with 2 Axes>"
            ]
          },
          "metadata": {
            "tags": [],
            "needs_background": "light"
          }
        }
      ]
    },
    {
      "cell_type": "code",
      "metadata": {
        "colab": {
          "base_uri": "https://localhost:8080/",
          "height": 334
        },
        "id": "iTqcR0LItgko",
        "outputId": "d661d4d8-a9a4-4391-aa9c-e38c8b6827c0"
      },
      "source": [
        "boxplot_violinplot('SeriousDlqin2yrs', 'NumberRealEstateLoansOrLines')"
      ],
      "execution_count": 70,
      "outputs": [
        {
          "output_type": "display_data",
          "data": {
            "image/png": "[encoded data removed]",
            "text/plain": [
              "<Figure size 864x360 with 2 Axes>"
            ]
          },
          "metadata": {
            "tags": [],
            "needs_background": "light"
          }
        }
      ]
    },
    {
      "cell_type": "code",
      "metadata": {
        "colab": {
          "base_uri": "https://localhost:8080/",
          "height": 334
        },
        "id": "2BxHc-tutnbc",
        "outputId": "469f32ae-c14f-4fb7-8770-bb4161f53b8d"
      },
      "source": [
        "boxplot_violinplot('SeriousDlqin2yrs', 'RevolvingUtilizationOfUnsecuredLines')"
      ],
      "execution_count": 71,
      "outputs": [
        {
          "output_type": "display_data",
          "data": {
            "image/png": "[encoded data removed]",
            "text/plain": [
              "<Figure size 864x360 with 2 Axes>"
            ]
          },
          "metadata": {
            "tags": [],
            "needs_background": "light"
          }
        }
      ]
    },
    {
      "cell_type": "code",
      "metadata": {
        "colab": {
          "base_uri": "https://localhost:8080/",
          "height": 334
        },
        "id": "WEH_BwOduDLS",
        "outputId": "7156ac55-fdca-400f-a5f4-5b9da7f0bc1f"
      },
      "source": [
        "boxplot_violinplot('SeriousDlqin2yrs', 'NumberOfDependents')"
      ],
      "execution_count": 72,
      "outputs": [
        {
          "output_type": "display_data",
          "data": {
            "image/png": "[encoded data removed]",
            "text/plain": [
              "<Figure size 864x360 with 2 Axes>"
            ]
          },
          "metadata": {
            "tags": [],
            "needs_background": "light"
          }
        }
      ]
    },
    {
      "cell_type": "code",
      "metadata": {
        "colab": {
          "base_uri": "https://localhost:8080/",
          "height": 334
        },
        "id": "PyGBbSQ5uly8",
        "outputId": "2bf095ef-ff6e-4023-9e9d-3b7209fa8ad7"
      },
      "source": [
        "boxplot_violinplot('SeriousDlqin2yrs', 'NumberOfTime30-59DaysPastDueNotWorse')"
      ],
      "execution_count": 73,
      "outputs": [
        {
          "output_type": "display_data",
          "data": {
            "image/png": "[encoded data removed]",
            "text/plain": [
              "<Figure size 864x360 with 2 Axes>"
            ]
          },
          "metadata": {
            "tags": [],
            "needs_background": "light"
          }
        }
      ]
    },
    {
      "cell_type": "code",
      "metadata": {
        "colab": {
          "base_uri": "https://localhost:8080/",
          "height": 336
        },
        "id": "BkKSizxRvDCc",
        "outputId": "85841282-4a40-4c7b-ea58-e69d5d3c57c8"
      },
      "source": [
        "boxplot_violinplot('SeriousDlqin2yrs', 'NumberOfTime60-89DaysPastDueNotWorse')"
      ],
      "execution_count": 74,
      "outputs": [
        {
          "output_type": "display_data",
          "data": {
            "image/png": "[encoded data removed]",
            "text/plain": [
              "<Figure size 864x360 with 2 Axes>"
            ]
          },
          "metadata": {
            "tags": [],
            "needs_background": "light"
          }
        }
      ]
    },
    {
      "cell_type": "code",
      "metadata": {
        "colab": {
          "base_uri": "https://localhost:8080/",
          "height": 334
        },
        "id": "mrn6am0DvJrs",
        "outputId": "d5d5abf6-0782-40e3-bf98-ad7775fbb28b"
      },
      "source": [
        "boxplot_violinplot('SeriousDlqin2yrs', 'NumberOfTimes90DaysLate')"
      ],
      "execution_count": 75,
      "outputs": [
        {
          "output_type": "display_data",
          "data": {
            "image/png": "[encoded data removed]",
            "text/plain": [
              "<Figure size 864x360 with 2 Axes>"
            ]
          },
          "metadata": {
            "tags": [],
            "needs_background": "light"
          }
        }
      ]
    },
    {
      "cell_type": "code",
      "metadata": {
        "id": "s04HDBJIvkS9"
      },
      "source": [
        "#Feature Engineering\n",
        "\n",
        "dataset = [new_train, new_test]\n"
      ],
      "execution_count": 76,
      "outputs": []
    },
    {
      "cell_type": "code",
      "metadata": {
        "colab": {
          "base_uri": "https://localhost:8080/"
        },
        "id": "k2DZK3RSvsBf",
        "outputId": "01faf4cc-e4d4-4881-c432-710f560620cf"
      },
      "source": [
        "for data in dataset:\n",
        "  data['CombinedPastDue'] =  data['NumberOfTime30-59DaysPastDueNotWorse'] + data['NumberOfTime60-89DaysPastDueNotWorse'] + data['NumberOfTimes90DaysLate']\n",
        "  data['CombinedCreditLoans'] = data['NumberOfOpenCreditLinesAndLoans'] + data ['NumberRealEstateLoansOrLines']\n",
        "\n",
        "new_train.columns  \n"
      ],
      "execution_count": 77,
      "outputs": [
        {
          "output_type": "execute_result",
          "data": {
            "text/plain": [
              "Index(['CustomerID', 'RevolvingUtilizationOfUnsecuredLines', 'age',\n",
              "       'NumberOfTime30-59DaysPastDueNotWorse', 'DebtRatio', 'MonthlyIncome',\n",
              "       'NumberOfOpenCreditLinesAndLoans', 'NumberOfTimes90DaysLate',\n",
              "       'NumberRealEstateLoansOrLines', 'NumberOfTime60-89DaysPastDueNotWorse',\n",
              "       'NumberOfDependents', 'SeriousDlqin2yrs', 'CombinedPastDue',\n",
              "       'CombinedCreditLoans'],\n",
              "      dtype='object')"
            ]
          },
          "metadata": {
            "tags": []
          },
          "execution_count": 77
        }
      ]
    },
    {
      "cell_type": "code",
      "metadata": {
        "colab": {
          "base_uri": "https://localhost:8080/"
        },
        "id": "_p4GxPcVwoPh",
        "outputId": "a011fb5f-c2bd-49cd-979a-9a1c660f6932"
      },
      "source": [
        "for data in dataset:\n",
        "  data['MonthlyIncomePerPerson'] = data ['MonthlyIncome'] / (data['NumberOfDependents']+1)\n",
        "  data['MonthlyDebt'] = data['MonthlyIncome']*data['DebtRatio']\n",
        "  data['isRetired']   = np.where((data['age'] > 65),1,0)\n",
        "  data['RevolvingLines'] = data['NumberOfOpenCreditLinesAndLoans'] - data['NumberRealEstateLoansOrLines']\n",
        "  data['hasReolvingLines'] = np.where((data['RevolvingLines']>0),1,0)\n",
        "  data['hasMutipleRealEstates'] = np.where((data['NumberRealEstateLoansOrLines']>=2),1,0)\n",
        "  data['isAlone'] = np.where((data['NumberOfDependents']==0),1,0)\n",
        "\n",
        "new_train.columns  \n"
      ],
      "execution_count": 78,
      "outputs": [
        {
          "output_type": "execute_result",
          "data": {
            "text/plain": [
              "Index(['CustomerID', 'RevolvingUtilizationOfUnsecuredLines', 'age',\n",
              "       'NumberOfTime30-59DaysPastDueNotWorse', 'DebtRatio', 'MonthlyIncome',\n",
              "       'NumberOfOpenCreditLinesAndLoans', 'NumberOfTimes90DaysLate',\n",
              "       'NumberRealEstateLoansOrLines', 'NumberOfTime60-89DaysPastDueNotWorse',\n",
              "       'NumberOfDependents', 'SeriousDlqin2yrs', 'CombinedPastDue',\n",
              "       'CombinedCreditLoans', 'MonthlyIncomePerPerson', 'MonthlyDebt',\n",
              "       'isRetired', 'RevolvingLines', 'hasReolvingLines',\n",
              "       'hasMutipleRealEstates', 'isAlone'],\n",
              "      dtype='object')"
            ]
          },
          "metadata": {
            "tags": []
          },
          "execution_count": 78
        }
      ]
    },
    {
      "cell_type": "markdown",
      "metadata": {
        "id": "Oaty9lqmzJO5"
      },
      "source": [
        "Tacking Class imbalance Problem using:\n",
        "\n",
        "Upsampling the minority class(Default rate)\n",
        "Downsampling the majority class(non defaulters)\n",
        "SMOTE - Synthetic Sampling"
      ]
    },
    {
      "cell_type": "code",
      "metadata": {
        "id": "icmdW1jGzZr8"
      },
      "source": [
        "df_train = new_train.drop(columns=['CustomerID','SeriousDlqin2yrs'],axis=1)\n",
        "y_train = new_train['SeriousDlqin2yrs']\n",
        "\n",
        "df_test= new_test.drop(columns=['CustomerID','SeriousDlqin2yrs'],axis=1)\n",
        "y_test= new_test['SeriousDlqin2yrs']"
      ],
      "execution_count": 79,
      "outputs": []
    },
    {
      "cell_type": "code",
      "metadata": {
        "id": "GfbI0Dn8z4iB"
      },
      "source": [
        "# Upsampling\n",
        "df_majority = new_train[new_train['SeriousDlqin2yrs']==0]\n",
        "df_minority = new_train[new_train['SeriousDlqin2yrs']==1]"
      ],
      "execution_count": 80,
      "outputs": []
    },
    {
      "cell_type": "code",
      "metadata": {
        "colab": {
          "base_uri": "https://localhost:8080/"
        },
        "id": "TCKUqQx70hP5",
        "outputId": "fb7256d3-38ae-4c05-85f9-04967521553f"
      },
      "source": [
        "# replacing the samples keeping 100000 as the defaulters to keep in line with the non defaulters\n",
        "\n",
        "df_minority_upsampled = resample(df_minority,replace=True, n_samples=100000,random_state=42)\n",
        "df_minority_upsampled = resample(df_minority,replace=True, n_samples=100000,random_state=42)\n",
        "df_upsampled = pd.concat([df_majority,df_minority_upsampled])\n",
        "df_upsampled['SeriousDlqin2yrs'].value_counts()"
      ],
      "execution_count": 81,
      "outputs": [
        {
          "output_type": "execute_result",
          "data": {
            "text/plain": [
              "0    111532\n",
              "1    100000\n",
              "Name: SeriousDlqin2yrs, dtype: int64"
            ]
          },
          "metadata": {
            "tags": []
          },
          "execution_count": 81
        }
      ]
    },
    {
      "cell_type": "code",
      "metadata": {
        "colab": {
          "base_uri": "https://localhost:8080/"
        },
        "id": "BJGlo-SUrxZj",
        "outputId": "54fa8c75-c77e-4316-c2fe-7a4edceb5503"
      },
      "source": [
        "# Downsampling\n",
        "\n",
        "new_train['SeriousDlqin2yrs'].value_counts()"
      ],
      "execution_count": 82,
      "outputs": [
        {
          "output_type": "execute_result",
          "data": {
            "text/plain": [
              "0    111532\n",
              "1      8010\n",
              "Name: SeriousDlqin2yrs, dtype: int64"
            ]
          },
          "metadata": {
            "tags": []
          },
          "execution_count": 82
        }
      ]
    },
    {
      "cell_type": "code",
      "metadata": {
        "colab": {
          "base_uri": "https://localhost:8080/"
        },
        "id": "1Rgb333Lr3-4",
        "outputId": "e8d1d69f-a44a-45fb-e7b9-ffef49d2e285"
      },
      "source": [
        "df_majority_downsampled  = resample(df_majority,n_samples=8000,random_state=42)\n",
        "df_downsampled = pd.concat([df_minority,df_majority_downsampled])\n",
        "df_downsampled['SeriousDlqin2yrs'].value_counts()"
      ],
      "execution_count": 83,
      "outputs": [
        {
          "output_type": "execute_result",
          "data": {
            "text/plain": [
              "1    8010\n",
              "0    8000\n",
              "Name: SeriousDlqin2yrs, dtype: int64"
            ]
          },
          "metadata": {
            "tags": []
          },
          "execution_count": 83
        }
      ]
    },
    {
      "cell_type": "code",
      "metadata": {
        "colab": {
          "base_uri": "https://localhost:8080/"
        },
        "id": "cvn73JP7uG9b",
        "outputId": "2d1130f0-545d-4912-c017-f68f85a3929f"
      },
      "source": [
        "y_train_downsampled = df_downsampled['SeriousDlqin2yrs']\n",
        "\n",
        "df_downsampled.drop(columns=['CustomerID','SeriousDlqin2yrs'],axis=1,inplace=True)\n",
        "df_downsampled.shape, df_test.shape, y_train_downsampled.shape, y_test.shape"
      ],
      "execution_count": 84,
      "outputs": [
        {
          "output_type": "execute_result",
          "data": {
            "text/plain": [
              "((16010, 19), (29946, 19), (16010,), (29946,))"
            ]
          },
          "metadata": {
            "tags": []
          },
          "execution_count": 84
        }
      ]
    },
    {
      "cell_type": "code",
      "metadata": {
        "id": "l5qhTx69v2lG"
      },
      "source": [
        "# SMOTE\n",
        "\n",
        "smote = SMOTE(sampling_strategy= 'minority', k_neighbors=2, random_state=42)\n",
        "#os- ordered sampling\n",
        "os_data_X,os_data_y = smote.fit_resample(df_train,y_train)"
      ],
      "execution_count": 85,
      "outputs": []
    },
    {
      "cell_type": "code",
      "metadata": {
        "colab": {
          "base_uri": "https://localhost:8080/"
        },
        "id": "AO2og5cpw65d",
        "outputId": "0d6bb426-4b51-4fb0-9624-a930d43fa3e4"
      },
      "source": [
        "os_data_X.shape, sum(os_data_X)/len(os_data_y)"
      ],
      "execution_count": 147,
      "outputs": [
        {
          "output_type": "execute_result",
          "data": {
            "text/plain": [
              "((223064, 19),\n",
              " array([5.06358066e-01, 4.92308221e+01, 6.66234462e-01, 3.20216627e+02,\n",
              "        6.03427246e+03, 8.17574897e+00, 4.85542529e-01, 9.99838653e-01,\n",
              "        3.00554043e-01, 8.15072754e-01, 1.45233103e+00, 9.17558763e+00,\n",
              "        4.24115280e+03, 1.66519043e+06, 1.32190771e-01, 7.17591032e+00,\n",
              "        9.66912564e-01, 2.66892968e-01, 5.70921348e-01]))"
            ]
          },
          "metadata": {
            "tags": []
          },
          "execution_count": 147
        }
      ]
    },
    {
      "cell_type": "code",
      "metadata": {
        "colab": {
          "base_uri": "https://localhost:8080/"
        },
        "id": "ZfawsHNs0bsm",
        "outputId": "414b7cac-52ca-407f-b97a-5a6043073722"
      },
      "source": [
        "# Making a copy of the dataframes so that transformed df and original \n",
        "#df is separate to compare results\n",
        "\n",
        "os_data_X_transformed = os_data_X.copy()\n",
        "df_test_transformed = df_test.copy()\n",
        "df_test_transformed.count\n"
      ],
      "execution_count": 155,
      "outputs": [
        {
          "output_type": "execute_result",
          "data": {
            "text/plain": [
              "<bound method DataFrame.count of         RevolvingUtilizationOfUnsecuredLines  age  \\\n",
              "147386                              1.000000   45   \n",
              "104611                              0.586490   41   \n",
              "139320                              0.014679   63   \n",
              "119583                              0.542555   41   \n",
              "37763                               0.168025   49   \n",
              "...                                      ...  ...   \n",
              "18048                               0.004136   41   \n",
              "3895                                0.000000   49   \n",
              "12547                               0.207752   44   \n",
              "62173                               0.012718   64   \n",
              "33169                               0.000584   39   \n",
              "\n",
              "        NumberOfTime30-59DaysPastDueNotWorse  DebtRatio  MonthlyIncome  \\\n",
              "147386                                     0   0.166333         2500.0   \n",
              "104611                                     1   0.267449         5200.0   \n",
              "139320                                     0   0.010198         5000.0   \n",
              "119583                                     0   0.348508         3250.0   \n",
              "37763                                      0   0.127739        12000.0   \n",
              "...                                      ...        ...            ...   \n",
              "18048                                      0   0.472323         7695.0   \n",
              "3895                                       0   0.322344         8583.0   \n",
              "12547                                      0   0.365490         9660.0   \n",
              "62173                                      0   0.229047         5583.0   \n",
              "33169                                      0   0.292618         6000.0   \n",
              "\n",
              "        NumberOfOpenCreditLinesAndLoans  NumberOfTimes90DaysLate  ...  \\\n",
              "147386                                2                        0  ...   \n",
              "104611                                7                        0  ...   \n",
              "139320                                9                        0  ...   \n",
              "119583                                6                        0  ...   \n",
              "37763                                 7                        0  ...   \n",
              "...                                 ...                      ...  ...   \n",
              "18048                                 9                        0  ...   \n",
              "3895                                 18                        0  ...   \n",
              "12547                                 6                        0  ...   \n",
              "62173                                11                        0  ...   \n",
              "33169                                10                        0  ...   \n",
              "\n",
              "        MonthlyIncomePerPerson  MonthlyDebt  isRetired  RevolvingLines  \\\n",
              "147386             1250.000000   415.833667          0               2   \n",
              "104611             1733.333333  1390.732554          0               5   \n",
              "139320             5000.000000    50.989800          0               9   \n",
              "119583             1083.333333  1132.651491          0               6   \n",
              "37763              6000.000000  1532.872260          0               6   \n",
              "...                        ...          ...        ...             ...   \n",
              "18048              7695.000000  3634.527678          0               7   \n",
              "3895               4291.500000  2766.677659          0              17   \n",
              "12547              3220.000000  3530.634511          0               4   \n",
              "62173              1861.000000  1278.770953          0              10   \n",
              "33169              2000.000000  1755.707382          0               9   \n",
              "\n",
              "        hasReolvingLines  hasMutipleRealEstates  isAlone  \n",
              "147386                 1                      0        0  \n",
              "104611                 1                      1        0  \n",
              "139320                 1                      0        1  \n",
              "119583                 1                      0        0  \n",
              "37763                  1                      0        0  \n",
              "...                  ...                    ...      ...  \n",
              "18048                  1                      1        1  \n",
              "3895                   1                      0        0  \n",
              "12547                  1                      1        0  \n",
              "62173                  1                      0        0  \n",
              "33169                  1                      0        0  \n",
              "\n",
              "[29946 rows x 19 columns]>"
            ]
          },
          "metadata": {
            "tags": []
          },
          "execution_count": 155
        }
      ]
    },
    {
      "cell_type": "code",
      "metadata": {
        "id": "h-jnuErS20_w"
      },
      "source": [
        "df_test_standardized = df_test.copy()"
      ],
      "execution_count": 88,
      "outputs": []
    },
    {
      "cell_type": "code",
      "metadata": {
        "id": "gpMGwT-E25c-"
      },
      "source": [
        "df_downsampled_transformed = df_downsampled.copy()\n",
        "df_upsampled_transformed = df_upsampled.copy()"
      ],
      "execution_count": 89,
      "outputs": []
    },
    {
      "cell_type": "code",
      "metadata": {
        "id": "yhoI2qe-DwBL"
      },
      "source": [
        "# Scaling of the features so convergence of the model towards global minima can \n",
        "#be achieved and training can be done faster.\n",
        "\n",
        "# Following feauture transformation techniques will be applied\n",
        "# BoxCox Trasnformations\n",
        "# Standardization "
      ],
      "execution_count": 90,
      "outputs": []
    },
    {
      "cell_type": "code",
      "metadata": {
        "id": "7dU1yFghEJgR"
      },
      "source": [
        "# We have to check how skewness changes afer the transofmraions and we will check on SMOTE\n",
        "# sampling technique dataset"
      ],
      "execution_count": 91,
      "outputs": []
    },
    {
      "cell_type": "code",
      "metadata": {
        "id": "V_06Q_BwEt9M"
      },
      "source": [
        "def SkewMeasure(df):\n",
        "     df2 = pd.DataFrame(df)\n",
        "     nonObjectColList = df2.dtypes[df2.dtypes != 'object'].index\n",
        "     skewM = df2[nonObjectColList].apply(lambda x: skew(x.dropna())).sort_values(ascending = False)\n",
        "     skewM=pd.DataFrame({'skew':skewM})\n",
        "     return skewM[abs(skewM)>0.5].dropna()\n",
        "     "
      ],
      "execution_count": 149,
      "outputs": []
    },
    {
      "cell_type": "code",
      "metadata": {
        "colab": {
          "base_uri": "https://localhost:8080/",
          "height": 576
        },
        "id": "Iljye09gFqC9",
        "outputId": "769e52f7-519e-45f1-b420-2f7ff77b2293"
      },
      "source": [
        "SkewMeasure(os_data_X_transformed)\n",
        "#As we can skewness is pretty higher in following results\n"
      ],
      "execution_count": 150,
      "outputs": [
        {
          "output_type": "execute_result",
          "data": {
            "text/html": [
              "<div>\n",
              "<style scoped>\n",
              "    .dataframe tbody tr th:only-of-type {\n",
              "        vertical-align: middle;\n",
              "    }\n",
              "\n",
              "    .dataframe tbody tr th {\n",
              "        vertical-align: top;\n",
              "    }\n",
              "\n",
              "    .dataframe thead th {\n",
              "        text-align: right;\n",
              "    }\n",
              "</style>\n",
              "<table border=\"1\" class=\"dataframe\">\n",
              "  <thead>\n",
              "    <tr style=\"text-align: right;\">\n",
              "      <th></th>\n",
              "      <th>skew</th>\n",
              "    </tr>\n",
              "  </thead>\n",
              "  <tbody>\n",
              "    <tr>\n",
              "      <th>4</th>\n",
              "      <td>146.968611</td>\n",
              "    </tr>\n",
              "    <tr>\n",
              "      <th>12</th>\n",
              "      <td>105.345969</td>\n",
              "    </tr>\n",
              "    <tr>\n",
              "      <th>13</th>\n",
              "      <td>90.058100</td>\n",
              "    </tr>\n",
              "    <tr>\n",
              "      <th>3</th>\n",
              "      <td>87.067428</td>\n",
              "    </tr>\n",
              "    <tr>\n",
              "      <th>10</th>\n",
              "      <td>7.661323</td>\n",
              "    </tr>\n",
              "    <tr>\n",
              "      <th>8</th>\n",
              "      <td>7.411765</td>\n",
              "    </tr>\n",
              "    <tr>\n",
              "      <th>6</th>\n",
              "      <td>7.297487</td>\n",
              "    </tr>\n",
              "    <tr>\n",
              "      <th>2</th>\n",
              "      <td>4.386892</td>\n",
              "    </tr>\n",
              "    <tr>\n",
              "      <th>7</th>\n",
              "      <td>3.592558</td>\n",
              "    </tr>\n",
              "    <tr>\n",
              "      <th>14</th>\n",
              "      <td>2.166787</td>\n",
              "    </tr>\n",
              "    <tr>\n",
              "      <th>9</th>\n",
              "      <td>1.428809</td>\n",
              "    </tr>\n",
              "    <tr>\n",
              "      <th>15</th>\n",
              "      <td>1.243642</td>\n",
              "    </tr>\n",
              "    <tr>\n",
              "      <th>11</th>\n",
              "      <td>1.105676</td>\n",
              "    </tr>\n",
              "    <tr>\n",
              "      <th>5</th>\n",
              "      <td>1.082789</td>\n",
              "    </tr>\n",
              "    <tr>\n",
              "      <th>17</th>\n",
              "      <td>1.051331</td>\n",
              "    </tr>\n",
              "    <tr>\n",
              "      <th>0</th>\n",
              "      <td>0.807936</td>\n",
              "    </tr>\n",
              "    <tr>\n",
              "      <th>16</th>\n",
              "      <td>-5.163959</td>\n",
              "    </tr>\n",
              "  </tbody>\n",
              "</table>\n",
              "</div>"
            ],
            "text/plain": [
              "          skew\n",
              "4   146.968611\n",
              "12  105.345969\n",
              "13   90.058100\n",
              "3    87.067428\n",
              "10    7.661323\n",
              "8     7.411765\n",
              "6     7.297487\n",
              "2     4.386892\n",
              "7     3.592558\n",
              "14    2.166787\n",
              "9     1.428809\n",
              "15    1.243642\n",
              "11    1.105676\n",
              "5     1.082789\n",
              "17    1.051331\n",
              "0     0.807936\n",
              "16   -5.163959"
            ]
          },
          "metadata": {
            "tags": []
          },
          "execution_count": 150
        }
      ]
    },
    {
      "cell_type": "code",
      "metadata": {
        "colab": {
          "base_uri": "https://localhost:8080/",
          "height": 576
        },
        "id": "4AKV99tz4zqf",
        "outputId": "244ee378-203e-448c-a90a-e44d7bf824f4"
      },
      "source": [
        "skewM = SkewMeasure(os_data_X_transformed)\n",
        "\n",
        "for i in skewM.index:\n",
        "    os_data_X_transformed[i] = special.boxcox1p(os_data_X_transformed[i],0.15) #lambda = 0.15\n",
        "    #df_test_transformed[i]  = special.boxcox1p(df_test_transformed[i],0.15) #lambda = 0.15\n",
        "SkewMeasure(os_data_X_transformed)"
      ],
      "execution_count": 160,
      "outputs": [
        {
          "output_type": "execute_result",
          "data": {
            "text/html": [
              "<div>\n",
              "<style scoped>\n",
              "    .dataframe tbody tr th:only-of-type {\n",
              "        vertical-align: middle;\n",
              "    }\n",
              "\n",
              "    .dataframe tbody tr th {\n",
              "        vertical-align: top;\n",
              "    }\n",
              "\n",
              "    .dataframe thead th {\n",
              "        text-align: right;\n",
              "    }\n",
              "</style>\n",
              "<table border=\"1\" class=\"dataframe\">\n",
              "  <thead>\n",
              "    <tr style=\"text-align: right;\">\n",
              "      <th></th>\n",
              "      <th>skew</th>\n",
              "    </tr>\n",
              "  </thead>\n",
              "  <tbody>\n",
              "    <tr>\n",
              "      <th>4</th>\n",
              "      <td>146.964652</td>\n",
              "    </tr>\n",
              "    <tr>\n",
              "      <th>12</th>\n",
              "      <td>105.343210</td>\n",
              "    </tr>\n",
              "    <tr>\n",
              "      <th>13</th>\n",
              "      <td>90.060140</td>\n",
              "    </tr>\n",
              "    <tr>\n",
              "      <th>3</th>\n",
              "      <td>87.069325</td>\n",
              "    </tr>\n",
              "    <tr>\n",
              "      <th>10</th>\n",
              "      <td>7.661383</td>\n",
              "    </tr>\n",
              "    <tr>\n",
              "      <th>8</th>\n",
              "      <td>7.411793</td>\n",
              "    </tr>\n",
              "    <tr>\n",
              "      <th>6</th>\n",
              "      <td>7.297496</td>\n",
              "    </tr>\n",
              "    <tr>\n",
              "      <th>2</th>\n",
              "      <td>4.387083</td>\n",
              "    </tr>\n",
              "    <tr>\n",
              "      <th>7</th>\n",
              "      <td>3.592739</td>\n",
              "    </tr>\n",
              "    <tr>\n",
              "      <th>14</th>\n",
              "      <td>2.166912</td>\n",
              "    </tr>\n",
              "    <tr>\n",
              "      <th>9</th>\n",
              "      <td>1.428868</td>\n",
              "    </tr>\n",
              "    <tr>\n",
              "      <th>15</th>\n",
              "      <td>1.243618</td>\n",
              "    </tr>\n",
              "    <tr>\n",
              "      <th>11</th>\n",
              "      <td>1.105678</td>\n",
              "    </tr>\n",
              "    <tr>\n",
              "      <th>5</th>\n",
              "      <td>1.082766</td>\n",
              "    </tr>\n",
              "    <tr>\n",
              "      <th>17</th>\n",
              "      <td>1.051379</td>\n",
              "    </tr>\n",
              "    <tr>\n",
              "      <th>0</th>\n",
              "      <td>0.807968</td>\n",
              "    </tr>\n",
              "    <tr>\n",
              "      <th>16</th>\n",
              "      <td>-5.160978</td>\n",
              "    </tr>\n",
              "  </tbody>\n",
              "</table>\n",
              "</div>"
            ],
            "text/plain": [
              "          skew\n",
              "4   146.964652\n",
              "12  105.343210\n",
              "13   90.060140\n",
              "3    87.069325\n",
              "10    7.661383\n",
              "8     7.411793\n",
              "6     7.297496\n",
              "2     4.387083\n",
              "7     3.592739\n",
              "14    2.166912\n",
              "9     1.428868\n",
              "15    1.243618\n",
              "11    1.105678\n",
              "5     1.082766\n",
              "17    1.051379\n",
              "0     0.807968\n",
              "16   -5.160978"
            ]
          },
          "metadata": {
            "tags": []
          },
          "execution_count": 160
        }
      ]
    },
    {
      "cell_type": "code",
      "metadata": {
        "colab": {
          "base_uri": "https://localhost:8080/"
        },
        "id": "uI4ac8MoakXZ",
        "outputId": "c1b7ddc1-3d28-4f21-d190-be7d01e65fe7"
      },
      "source": [
        "id = [i for i in range(1,len(np.asarray(os_data_X_transformed))+1)]\n",
        "os_data_X_transformed = np.insert(os_data_X_transformed, 0, id)\n",
        "print(os_data_X_transformed)"
      ],
      "execution_count": 145,
      "outputs": [
        {
          "output_type": "stream",
          "text": [
            "[1. 2. 3. ... 1. 0. 0.]\n"
          ],
          "name": "stdout"
        }
      ]
    },
    {
      "cell_type": "code",
      "metadata": {
        "colab": {
          "base_uri": "https://localhost:8080/",
          "height": 422
        },
        "id": "U0cP2PmT-CvP",
        "outputId": "786c11b2-3695-4316-eef8-c203da6b890f"
      },
      "source": [
        "columnList = list(df_test_transformed.columns)\n",
        "\n",
        "fig = plt.figure(figsize=[20,20])\n",
        "for col, i in zip(columnList,range(1,19)):\n",
        "  axes= fig.add_subplot(6,3,i)\n",
        "  sns.distplot(os_data_X_transformed[col],ax=axes,kde_kws={'bw':1.5},color='purple')\n",
        "plt.show()"
      ],
      "execution_count": 135,
      "outputs": [
        {
          "output_type": "error",
          "ename": "IndexError",
          "evalue": "ignored",
          "traceback": [
            "\u001b[0;31m---------------------------------------------------------------------------\u001b[0m",
            "\u001b[0;31mIndexError\u001b[0m                                Traceback (most recent call last)",
            "\u001b[0;32m<ipython-input-135-c062cdbd8103>\u001b[0m in \u001b[0;36m<module>\u001b[0;34m()\u001b[0m\n\u001b[1;32m      4\u001b[0m \u001b[0;32mfor\u001b[0m \u001b[0mcol\u001b[0m\u001b[0;34m,\u001b[0m \u001b[0mi\u001b[0m \u001b[0;32min\u001b[0m \u001b[0mzip\u001b[0m\u001b[0;34m(\u001b[0m\u001b[0mcolumnList\u001b[0m\u001b[0;34m,\u001b[0m\u001b[0mrange\u001b[0m\u001b[0;34m(\u001b[0m\u001b[0;36m1\u001b[0m\u001b[0;34m,\u001b[0m\u001b[0;36m19\u001b[0m\u001b[0;34m)\u001b[0m\u001b[0;34m)\u001b[0m\u001b[0;34m:\u001b[0m\u001b[0;34m\u001b[0m\u001b[0;34m\u001b[0m\u001b[0m\n\u001b[1;32m      5\u001b[0m   \u001b[0maxes\u001b[0m\u001b[0;34m=\u001b[0m \u001b[0mfig\u001b[0m\u001b[0;34m.\u001b[0m\u001b[0madd_subplot\u001b[0m\u001b[0;34m(\u001b[0m\u001b[0;36m6\u001b[0m\u001b[0;34m,\u001b[0m\u001b[0;36m3\u001b[0m\u001b[0;34m,\u001b[0m\u001b[0mi\u001b[0m\u001b[0;34m)\u001b[0m\u001b[0;34m\u001b[0m\u001b[0;34m\u001b[0m\u001b[0m\n\u001b[0;32m----> 6\u001b[0;31m   \u001b[0msns\u001b[0m\u001b[0;34m.\u001b[0m\u001b[0mdistplot\u001b[0m\u001b[0;34m(\u001b[0m\u001b[0mos_data_X_transformed\u001b[0m\u001b[0;34m[\u001b[0m\u001b[0mcol\u001b[0m\u001b[0;34m]\u001b[0m\u001b[0;34m,\u001b[0m\u001b[0max\u001b[0m\u001b[0;34m=\u001b[0m\u001b[0maxes\u001b[0m\u001b[0;34m,\u001b[0m\u001b[0mkde_kws\u001b[0m\u001b[0;34m=\u001b[0m\u001b[0;34m{\u001b[0m\u001b[0;34m'bw'\u001b[0m\u001b[0;34m:\u001b[0m\u001b[0;36m1.5\u001b[0m\u001b[0;34m}\u001b[0m\u001b[0;34m,\u001b[0m\u001b[0mcolor\u001b[0m\u001b[0;34m=\u001b[0m\u001b[0;34m'purple'\u001b[0m\u001b[0;34m)\u001b[0m\u001b[0;34m\u001b[0m\u001b[0;34m\u001b[0m\u001b[0m\n\u001b[0m\u001b[1;32m      7\u001b[0m \u001b[0mplt\u001b[0m\u001b[0;34m.\u001b[0m\u001b[0mshow\u001b[0m\u001b[0;34m(\u001b[0m\u001b[0;34m)\u001b[0m\u001b[0;34m\u001b[0m\u001b[0;34m\u001b[0m\u001b[0m\n",
            "\u001b[0;31mIndexError\u001b[0m: only integers, slices (`:`), ellipsis (`...`), numpy.newaxis (`None`) and integer or boolean arrays are valid indices"
          ]
        },
        {
          "output_type": "display_data",
          "data": {
            "image/png": "[encoded data removed]",
            "text/plain": [
              "<Figure size 1440x1440 with 1 Axes>"
            ]
          },
          "metadata": {
            "tags": [],
            "needs_background": "light"
          }
        }
      ]
    },
    {
      "cell_type": "code",
      "metadata": {
        "id": "l2AIvZL2slr_"
      },
      "source": [
        ""
      ],
      "execution_count": 116,
      "outputs": []
    }
  ]
}